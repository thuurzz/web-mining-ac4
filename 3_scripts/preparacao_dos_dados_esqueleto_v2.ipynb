{
  "cells": [
    {
      "attachments": {},
      "cell_type": "markdown",
      "metadata": {},
      "source": [
        "# Integrantes do trabalho\n",
        "- Arthur Vinicius Santos Silva  RA:1903665\n",
        "- Larissa Ionafa                RA:1903166\n",
        "- Lucas da Silva Santos         RA:1904201"
      ]
    },
    {
      "attachments": {},
      "cell_type": "markdown",
      "metadata": {
        "id": "zCrOM9PBUD9n"
      },
      "source": [
        "## Importando as bibliotecas"
      ]
    },
    {
      "cell_type": "code",
      "execution_count": 341,
      "metadata": {
        "id": "95s4x45JUD9r"
      },
      "outputs": [],
      "source": [
        "import pandas as pd\n",
        "import plotly.express as px\n",
        "import missingno as msno"
      ]
    },
    {
      "attachments": {},
      "cell_type": "markdown",
      "metadata": {
        "id": "tIonp_wfUD9t"
      },
      "source": [
        "## Importando as bases de dados"
      ]
    },
    {
      "attachments": {},
      "cell_type": "markdown",
      "metadata": {
        "id": "Y3WlvR5nUD9t"
      },
      "source": [
        "### Base de dados\n",
        "\n",
        "Base de dados loja de jogos on-line."
      ]
    },
    {
      "cell_type": "code",
      "execution_count": 342,
      "metadata": {
        "id": "eQdgzuEPUD9x",
        "outputId": "a7c8eeb8-f055-42de-fe88-dcff4ff30c31"
      },
      "outputs": [],
      "source": [
        "dados = pd.DataFrame(pd.read_csv(\"../0_bases_originais/original.csv\"))"
      ]
    },
    {
      "cell_type": "code",
      "execution_count": 343,
      "metadata": {},
      "outputs": [
        {
          "data": {
            "text/html": [
              "<div>\n",
              "<style scoped>\n",
              "    .dataframe tbody tr th:only-of-type {\n",
              "        vertical-align: middle;\n",
              "    }\n",
              "\n",
              "    .dataframe tbody tr th {\n",
              "        vertical-align: top;\n",
              "    }\n",
              "\n",
              "    .dataframe thead th {\n",
              "        text-align: right;\n",
              "    }\n",
              "</style>\n",
              "<table border=\"1\" class=\"dataframe\">\n",
              "  <thead>\n",
              "    <tr style=\"text-align: right;\">\n",
              "      <th></th>\n",
              "      <th>nome</th>\n",
              "      <th>porcentagem_desconto</th>\n",
              "      <th>preço</th>\n",
              "      <th>tipo</th>\n",
              "    </tr>\n",
              "  </thead>\n",
              "  <tbody>\n",
              "    <tr>\n",
              "      <th>0</th>\n",
              "      <td>DEVIL MAY CRY 5 + VERGIL</td>\n",
              "      <td>-67%</td>\n",
              "      <td>R$ 29,69</td>\n",
              "      <td>Padrão</td>\n",
              "    </tr>\n",
              "    <tr>\n",
              "      <th>1</th>\n",
              "      <td>Batman: Arkham Origins - Season Pass</td>\n",
              "      <td>-85%</td>\n",
              "      <td>R$ 5,54</td>\n",
              "      <td>DLC</td>\n",
              "    </tr>\n",
              "    <tr>\n",
              "      <th>2</th>\n",
              "      <td>Street Fighter 6 - Deluxe Edition</td>\n",
              "      <td>-12%</td>\n",
              "      <td>R$ 318,55</td>\n",
              "      <td>Pré-Venda</td>\n",
              "    </tr>\n",
              "    <tr>\n",
              "      <th>3</th>\n",
              "      <td>Mortal Kombat 11 Ultimate</td>\n",
              "      <td>-80%</td>\n",
              "      <td>R$ 55,99</td>\n",
              "      <td>Padrão</td>\n",
              "    </tr>\n",
              "    <tr>\n",
              "      <th>4</th>\n",
              "      <td>Xbox - Cartão Presente Digital 20 Reais</td>\n",
              "      <td>0</td>\n",
              "      <td>R$ 20,00</td>\n",
              "      <td>Padrão</td>\n",
              "    </tr>\n",
              "    <tr>\n",
              "      <th>...</th>\n",
              "      <td>...</td>\n",
              "      <td>...</td>\n",
              "      <td>...</td>\n",
              "      <td>...</td>\n",
              "    </tr>\n",
              "    <tr>\n",
              "      <th>595</th>\n",
              "      <td>Children of Morta: Ancient Spirits</td>\n",
              "      <td>0</td>\n",
              "      <td>R$ 10,89</td>\n",
              "      <td>DLC</td>\n",
              "    </tr>\n",
              "    <tr>\n",
              "      <th>596</th>\n",
              "      <td>Conan Exiles - Architects of Argos Pack</td>\n",
              "      <td>-25%</td>\n",
              "      <td>R$ 18,74</td>\n",
              "      <td>DLC</td>\n",
              "    </tr>\n",
              "    <tr>\n",
              "      <th>597</th>\n",
              "      <td>Destiny 2: Além da Luz</td>\n",
              "      <td>-60%</td>\n",
              "      <td>R$ 35,99</td>\n",
              "      <td>DLC</td>\n",
              "    </tr>\n",
              "    <tr>\n",
              "      <th>598</th>\n",
              "      <td>Crypt of the NecroDancer: AMPLIFIED</td>\n",
              "      <td>0</td>\n",
              "      <td>R$ 13,99</td>\n",
              "      <td>DLC</td>\n",
              "    </tr>\n",
              "    <tr>\n",
              "      <th>599</th>\n",
              "      <td>UNO - Flip Theme</td>\n",
              "      <td>-40%</td>\n",
              "      <td>R$ 8,99</td>\n",
              "      <td>DLC</td>\n",
              "    </tr>\n",
              "  </tbody>\n",
              "</table>\n",
              "<p>600 rows × 4 columns</p>\n",
              "</div>"
            ],
            "text/plain": [
              "                                        nome porcentagem_desconto      preço   \n",
              "0                   DEVIL MAY CRY 5 + VERGIL                 -67%   R$ 29,69  \\\n",
              "1       Batman: Arkham Origins - Season Pass                 -85%    R$ 5,54   \n",
              "2          Street Fighter 6 - Deluxe Edition                 -12%  R$ 318,55   \n",
              "3                  Mortal Kombat 11 Ultimate                 -80%   R$ 55,99   \n",
              "4    Xbox - Cartão Presente Digital 20 Reais                    0   R$ 20,00   \n",
              "..                                       ...                  ...        ...   \n",
              "595       Children of Morta: Ancient Spirits                    0   R$ 10,89   \n",
              "596  Conan Exiles - Architects of Argos Pack                 -25%   R$ 18,74   \n",
              "597                   Destiny 2: Além da Luz                 -60%   R$ 35,99   \n",
              "598      Crypt of the NecroDancer: AMPLIFIED                    0   R$ 13,99   \n",
              "599                         UNO - Flip Theme                 -40%    R$ 8,99   \n",
              "\n",
              "          tipo  \n",
              "0       Padrão  \n",
              "1          DLC  \n",
              "2    Pré-Venda  \n",
              "3       Padrão  \n",
              "4       Padrão  \n",
              "..         ...  \n",
              "595        DLC  \n",
              "596        DLC  \n",
              "597        DLC  \n",
              "598        DLC  \n",
              "599        DLC  \n",
              "\n",
              "[600 rows x 4 columns]"
            ]
          },
          "execution_count": 343,
          "metadata": {},
          "output_type": "execute_result"
        }
      ],
      "source": [
        "dados"
      ]
    },
    {
      "cell_type": "code",
      "execution_count": 344,
      "metadata": {
        "id": "FfBaJC4_UD9x",
        "outputId": "54f2be87-0ab8-40b5-b9b6-e8d8bc2bc85e"
      },
      "outputs": [
        {
          "data": {
            "text/plain": [
              "(600, 4)"
            ]
          },
          "execution_count": 344,
          "metadata": {},
          "output_type": "execute_result"
        }
      ],
      "source": [
        "# verificando o tamanho da base em linhas e colunas\n",
        "dados.shape"
      ]
    },
    {
      "attachments": {},
      "cell_type": "markdown",
      "metadata": {
        "id": "RgZDahgnUD9y"
      },
      "source": [
        "## Primeiros tratamentos"
      ]
    },
    {
      "attachments": {},
      "cell_type": "markdown",
      "metadata": {
        "id": "fQNgwCNZUD9y"
      },
      "source": [
        "### Resetando o index e eliminando os duplicados"
      ]
    },
    {
      "cell_type": "code",
      "execution_count": 345,
      "metadata": {
        "id": "tdpEj27SUD9y",
        "outputId": "a580b20c-aa57-4920-8f51-38a2d1501554"
      },
      "outputs": [
        {
          "data": {
            "text/plain": [
              "0      1\n",
              "394    1\n",
              "396    1\n",
              "397    1\n",
              "398    1\n",
              "      ..\n",
              "200    1\n",
              "201    1\n",
              "202    1\n",
              "203    1\n",
              "599    1\n",
              "Name: count, Length: 600, dtype: int64"
            ]
          },
          "execution_count": 345,
          "metadata": {},
          "output_type": "execute_result"
        }
      ],
      "source": [
        "dados.index.value_counts()"
      ]
    },
    {
      "cell_type": "code",
      "execution_count": 346,
      "metadata": {
        "id": "eXjCpJGuUD9z",
        "outputId": "0dd3b99f-9eb8-4936-9226-e5f0e8d641ef"
      },
      "outputs": [
        {
          "data": {
            "text/plain": [
              "0      1\n",
              "394    1\n",
              "396    1\n",
              "397    1\n",
              "398    1\n",
              "      ..\n",
              "200    1\n",
              "201    1\n",
              "202    1\n",
              "203    1\n",
              "599    1\n",
              "Name: count, Length: 600, dtype: int64"
            ]
          },
          "execution_count": 346,
          "metadata": {},
          "output_type": "execute_result"
        }
      ],
      "source": [
        "dados.reset_index(drop=True).index.value_counts()"
      ]
    },
    {
      "cell_type": "code",
      "execution_count": 347,
      "metadata": {
        "id": "l9H79DObUD9z",
        "outputId": "c824e26d-dc5c-477e-c1e6-c452a39a95ce"
      },
      "outputs": [
        {
          "data": {
            "text/plain": [
              "0"
            ]
          },
          "execution_count": 347,
          "metadata": {},
          "output_type": "execute_result"
        }
      ],
      "source": [
        "dados.duplicated().sum()"
      ]
    },
    {
      "cell_type": "code",
      "execution_count": 348,
      "metadata": {
        "id": "yZXazjhDUD9z"
      },
      "outputs": [
        {
          "data": {
            "text/html": [
              "<div>\n",
              "<style scoped>\n",
              "    .dataframe tbody tr th:only-of-type {\n",
              "        vertical-align: middle;\n",
              "    }\n",
              "\n",
              "    .dataframe tbody tr th {\n",
              "        vertical-align: top;\n",
              "    }\n",
              "\n",
              "    .dataframe thead th {\n",
              "        text-align: right;\n",
              "    }\n",
              "</style>\n",
              "<table border=\"1\" class=\"dataframe\">\n",
              "  <thead>\n",
              "    <tr style=\"text-align: right;\">\n",
              "      <th></th>\n",
              "      <th>nome</th>\n",
              "      <th>porcentagem_desconto</th>\n",
              "      <th>preço</th>\n",
              "      <th>tipo</th>\n",
              "    </tr>\n",
              "  </thead>\n",
              "  <tbody>\n",
              "  </tbody>\n",
              "</table>\n",
              "</div>"
            ],
            "text/plain": [
              "Empty DataFrame\n",
              "Columns: [nome, porcentagem_desconto, preço, tipo]\n",
              "Index: []"
            ]
          },
          "execution_count": 348,
          "metadata": {},
          "output_type": "execute_result"
        }
      ],
      "source": [
        "dados.loc[dados.nome.duplicated()==True]"
      ]
    },
    {
      "cell_type": "code",
      "execution_count": 349,
      "metadata": {
        "id": "AG0-ZCVKUD9z",
        "outputId": "5a576f05-34c3-4e4a-fc98-171091262437"
      },
      "outputs": [
        {
          "data": {
            "text/plain": [
              "(600, 4)"
            ]
          },
          "execution_count": 349,
          "metadata": {},
          "output_type": "execute_result"
        }
      ],
      "source": [
        "# criando um novo objeto dados, resetando o index do objeto anterior e eliminando duplicados\n",
        "dados = dados.reset_index(drop=True).drop_duplicates()\n",
        "dados.shape"
      ]
    },
    {
      "attachments": {},
      "cell_type": "markdown",
      "metadata": {
        "id": "LRUyDmrUUD90"
      },
      "source": [
        "## Retirando variáveis\n",
        "\n",
        "No pandas, utilizamos o comando .drop para eliminar as colunas que não pretendemos trabalhar."
      ]
    },
    {
      "cell_type": "code",
      "execution_count": 350,
      "metadata": {
        "id": "Q_B9AnhkUD90"
      },
      "outputs": [],
      "source": [
        "#Não será necessário remoção de colunas"
      ]
    },
    {
      "attachments": {},
      "cell_type": "markdown",
      "metadata": {
        "id": "kQRUrdcOUD90"
      },
      "source": [
        "## Editando os nomes das colunas"
      ]
    },
    {
      "attachments": {},
      "cell_type": "markdown",
      "metadata": {
        "id": "sG_VPvzPUD90"
      },
      "source": [
        "### Nomes das colunas em minusculo"
      ]
    },
    {
      "cell_type": "code",
      "execution_count": 351,
      "metadata": {
        "id": "HRD8WPWJUD90",
        "outputId": "83a3f97c-05f8-45f9-e3f5-c7e23cc8f85f"
      },
      "outputs": [
        {
          "data": {
            "text/plain": [
              "Index(['nome', 'porcentagem_desconto', 'preço', 'tipo'], dtype='object')"
            ]
          },
          "execution_count": 351,
          "metadata": {},
          "output_type": "execute_result"
        }
      ],
      "source": [
        "dados.columns"
      ]
    },
    {
      "cell_type": "code",
      "execution_count": 352,
      "metadata": {
        "id": "bbth0O0RUD91"
      },
      "outputs": [],
      "source": [
        "dados.columns = dados.columns.str.lower()"
      ]
    },
    {
      "attachments": {},
      "cell_type": "markdown",
      "metadata": {
        "id": "uEdkwKDUUD91"
      },
      "source": [
        "### Substituindo caracteres especiais das colunas"
      ]
    },
    {
      "cell_type": "code",
      "execution_count": 353,
      "metadata": {
        "id": "26EznS_qUD91"
      },
      "outputs": [],
      "source": [
        "dados.columns = dados.columns.str.replace('ç', 'c')"
      ]
    },
    {
      "cell_type": "code",
      "execution_count": 354,
      "metadata": {
        "id": "GyT9iAVZUD91",
        "outputId": "da4b39a8-e0d3-4064-ec3b-e70ae9a560c0"
      },
      "outputs": [
        {
          "data": {
            "text/plain": [
              "Index(['nome', 'porcentagem_desconto', 'preco', 'tipo'], dtype='object')"
            ]
          },
          "execution_count": 354,
          "metadata": {},
          "output_type": "execute_result"
        }
      ],
      "source": [
        "dados.columns"
      ]
    },
    {
      "attachments": {},
      "cell_type": "markdown",
      "metadata": {
        "id": "YKGeg9bkUD91"
      },
      "source": [
        "### Substituindo caracteres especiais das linhas de colunas específicas"
      ]
    },
    {
      "cell_type": "code",
      "execution_count": 355,
      "metadata": {
        "id": "_BbymMu4UD92",
        "outputId": "8e45ae0d-11a7-471a-f668-093ad70976aa"
      },
      "outputs": [],
      "source": [
        "dados.preco=dados.preco.str.replace('\\W','')\n",
        "dados.preco=dados.preco.str.replace('R','')\n",
        "dados.preco=dados.preco.str.replace(\"$\",\"\")\n",
        "dados.preco=dados.preco.str.replace(\",\",\".\")"
      ]
    },
    {
      "attachments": {},
      "cell_type": "markdown",
      "metadata": {
        "id": "ZAJD7HDPUD92"
      },
      "source": [
        "### Substituindo caracteres especiais de toda a base de dados"
      ]
    },
    {
      "cell_type": "code",
      "execution_count": 356,
      "metadata": {
        "id": "jcx_lqgUUD92"
      },
      "outputs": [],
      "source": [
        "dados = dados.replace({'á':'a','ã':'a', 'â':'a', 'í':'i',\n",
        "                ':' : '',\n",
        "                '-' : '',\n",
        "                \"’\" : \"\",\n",
        "                \"'\" : \"\",\n",
        "                \"/\" : \"\",\n",
        "                \"%\" : \"\",\n",
        "                'ÅŸ':'s',\n",
        "                'Ä°':'I',\n",
        "                'Ä±':'i',\n",
        "                'Ã¶':'o',\n",
        "                'Ã§':'c',\n",
        "                'ÄŸ':'g',\n",
        "                'Ã¼':'u',\n",
        "                'Ã©':'e',\n",
        "                'Ã¡':'a',\n",
        "                'Ã³':'o',\n",
        "                'Ã±':'nh',\n",
        "                '&':'',\n",
        "                'Ã…Ë†':'n',\n",
        "                'Ã§':'c',\n",
        "                'Ã­':'i',\n",
        "                'Ã£':'a',\n",
        "                'Ãº':'u',\n",
        "                'Ã':'a',\n",
        "                'Ãª':'e',\n",
        "                'Ã‘':'N',\n",
        "                'aÂ¢':'a',\n",
        "                'aÂª':'e',\n",
        "                'aÂ':'a',\n",
        "                \"á\":\"a\",\n",
        "                \"é\":\"e\",\n",
        "                \"í\":\"i\",\n",
        "                \"ó\":\"o\",\n",
        "                \"ú\":\"u\",\n",
        "                \"ã\":\"a\",\n",
        "                \"õ\":\"o\",\n",
        "                \"aª\":\"e\",\n",
        "                \"á\":\"a\",\n",
        "                \"é\":\"e\",\n",
        "                \"í\":\"i\",\n",
        "                \"ó\":\"o\",\n",
        "                \"ú\":\"u\",\n",
        "                \"ã\":\"a\",\n",
        "                \"õ\":\"o\",\n",
        "                \"ê\":\"e\",\n",
        "                \"â\":\"a\",\n",
        "                \"ô\":\"o\",\n",
        "                \"ê\":\"e\",\n",
        "                \"â\":\"a\",\n",
        "                \"ô\":\"o\",\n",
        "              }, regex=True)"
      ]
    },
    {
      "attachments": {},
      "cell_type": "markdown",
      "metadata": {},
      "source": [
        "## Convertendo preços para númerico"
      ]
    },
    {
      "cell_type": "code",
      "execution_count": 357,
      "metadata": {},
      "outputs": [],
      "source": [
        "dados.preco = pd.to_numeric(dados.preco, errors='coerce')"
      ]
    },
    {
      "attachments": {},
      "cell_type": "markdown",
      "metadata": {},
      "source": [
        "## Dados Missing"
      ]
    },
    {
      "cell_type": "code",
      "execution_count": 358,
      "metadata": {},
      "outputs": [
        {
          "data": {
            "text/plain": [
              "<Axes: >"
            ]
          },
          "execution_count": 358,
          "metadata": {},
          "output_type": "execute_result"
        },
        {
          "data": {
            "image/png": "[encoded data removed]",
            "text/plain": [
              "<Figure size 2500x1000 with 2 Axes>"
            ]
          },
          "metadata": {},
          "output_type": "display_data"
        }
      ],
      "source": [
        "msno.matrix(dados)"
      ]
    },
    {
      "cell_type": "code",
      "execution_count": 359,
      "metadata": {},
      "outputs": [
        {
          "data": {
            "text/plain": [
              "<Axes: >"
            ]
          },
          "execution_count": 359,
          "metadata": {},
          "output_type": "execute_result"
        },
        {
          "data": {
            "image/png": "[encoded data removed]",
            "text/plain": [
              "<Figure size 2500x1000 with 3 Axes>"
            ]
          },
          "metadata": {},
          "output_type": "display_data"
        }
      ],
      "source": [
        "msno.bar(dados)"
      ]
    },
    {
      "attachments": {},
      "cell_type": "markdown",
      "metadata": {},
      "source": [
        "## Justificativa da remoção de dados nulos\n",
        "Em análise dos dados, entendemos que os itens que retornaram indisponíveis da raspagem de dados, não fariam sentido serem expostos ou estarem contidos na base tratada."
      ]
    },
    {
      "cell_type": "code",
      "execution_count": 360,
      "metadata": {},
      "outputs": [
        {
          "data": {
            "text/html": [
              "<div>\n",
              "<style scoped>\n",
              "    .dataframe tbody tr th:only-of-type {\n",
              "        vertical-align: middle;\n",
              "    }\n",
              "\n",
              "    .dataframe tbody tr th {\n",
              "        vertical-align: top;\n",
              "    }\n",
              "\n",
              "    .dataframe thead th {\n",
              "        text-align: right;\n",
              "    }\n",
              "</style>\n",
              "<table border=\"1\" class=\"dataframe\">\n",
              "  <thead>\n",
              "    <tr style=\"text-align: right;\">\n",
              "      <th></th>\n",
              "      <th>nome</th>\n",
              "      <th>porcentagem_desconto</th>\n",
              "      <th>preco</th>\n",
              "      <th>tipo</th>\n",
              "    </tr>\n",
              "  </thead>\n",
              "  <tbody>\n",
              "    <tr>\n",
              "      <th>0</th>\n",
              "      <td>DEVIL MAY CRY 5 + VERGIL</td>\n",
              "      <td>67</td>\n",
              "      <td>29.69</td>\n",
              "      <td>Padrao</td>\n",
              "    </tr>\n",
              "    <tr>\n",
              "      <th>1</th>\n",
              "      <td>Batman Arkham Origins  Season Pass</td>\n",
              "      <td>85</td>\n",
              "      <td>5.54</td>\n",
              "      <td>DLC</td>\n",
              "    </tr>\n",
              "    <tr>\n",
              "      <th>2</th>\n",
              "      <td>Street Fighter 6  Deluxe Edition</td>\n",
              "      <td>12</td>\n",
              "      <td>318.55</td>\n",
              "      <td>PreVenda</td>\n",
              "    </tr>\n",
              "    <tr>\n",
              "      <th>3</th>\n",
              "      <td>Mortal Kombat 11 Ultimate</td>\n",
              "      <td>80</td>\n",
              "      <td>55.99</td>\n",
              "      <td>Padrao</td>\n",
              "    </tr>\n",
              "    <tr>\n",
              "      <th>4</th>\n",
              "      <td>Xbox  Cartao Presente Digital 20 Reais</td>\n",
              "      <td>0</td>\n",
              "      <td>20.00</td>\n",
              "      <td>Padrao</td>\n",
              "    </tr>\n",
              "    <tr>\n",
              "      <th>...</th>\n",
              "      <td>...</td>\n",
              "      <td>...</td>\n",
              "      <td>...</td>\n",
              "      <td>...</td>\n",
              "    </tr>\n",
              "    <tr>\n",
              "      <th>595</th>\n",
              "      <td>Children of Morta Ancient Spirits</td>\n",
              "      <td>0</td>\n",
              "      <td>10.89</td>\n",
              "      <td>DLC</td>\n",
              "    </tr>\n",
              "    <tr>\n",
              "      <th>596</th>\n",
              "      <td>Conan Exiles  Architects of Argos Pack</td>\n",
              "      <td>25</td>\n",
              "      <td>18.74</td>\n",
              "      <td>DLC</td>\n",
              "    </tr>\n",
              "    <tr>\n",
              "      <th>597</th>\n",
              "      <td>Destiny 2 Alem da Luz</td>\n",
              "      <td>60</td>\n",
              "      <td>35.99</td>\n",
              "      <td>DLC</td>\n",
              "    </tr>\n",
              "    <tr>\n",
              "      <th>598</th>\n",
              "      <td>Crypt of the NecroDancer AMPLIFIED</td>\n",
              "      <td>0</td>\n",
              "      <td>13.99</td>\n",
              "      <td>DLC</td>\n",
              "    </tr>\n",
              "    <tr>\n",
              "      <th>599</th>\n",
              "      <td>UNO  Flip Theme</td>\n",
              "      <td>40</td>\n",
              "      <td>8.99</td>\n",
              "      <td>DLC</td>\n",
              "    </tr>\n",
              "  </tbody>\n",
              "</table>\n",
              "<p>600 rows × 4 columns</p>\n",
              "</div>"
            ],
            "text/plain": [
              "                                       nome porcentagem_desconto   preco   \n",
              "0                  DEVIL MAY CRY 5 + VERGIL                   67   29.69  \\\n",
              "1        Batman Arkham Origins  Season Pass                   85    5.54   \n",
              "2          Street Fighter 6  Deluxe Edition                   12  318.55   \n",
              "3                 Mortal Kombat 11 Ultimate                   80   55.99   \n",
              "4    Xbox  Cartao Presente Digital 20 Reais                    0   20.00   \n",
              "..                                      ...                  ...     ...   \n",
              "595       Children of Morta Ancient Spirits                    0   10.89   \n",
              "596  Conan Exiles  Architects of Argos Pack                   25   18.74   \n",
              "597                   Destiny 2 Alem da Luz                   60   35.99   \n",
              "598      Crypt of the NecroDancer AMPLIFIED                    0   13.99   \n",
              "599                         UNO  Flip Theme                   40    8.99   \n",
              "\n",
              "         tipo  \n",
              "0      Padrao  \n",
              "1         DLC  \n",
              "2    PreVenda  \n",
              "3      Padrao  \n",
              "4      Padrao  \n",
              "..        ...  \n",
              "595       DLC  \n",
              "596       DLC  \n",
              "597       DLC  \n",
              "598       DLC  \n",
              "599       DLC  \n",
              "\n",
              "[600 rows x 4 columns]"
            ]
          },
          "execution_count": 360,
          "metadata": {},
          "output_type": "execute_result"
        }
      ],
      "source": [
        "dados"
      ]
    },
    {
      "cell_type": "code",
      "execution_count": 361,
      "metadata": {},
      "outputs": [
        {
          "data": {
            "text/plain": [
              "nome                    0\n",
              "porcentagem_desconto    0\n",
              "preco                   0\n",
              "tipo                    0\n",
              "dtype: int64"
            ]
          },
          "execution_count": 361,
          "metadata": {},
          "output_type": "execute_result"
        }
      ],
      "source": [
        "dados = dados.dropna()\n",
        "dados.isna().sum()"
      ]
    },
    {
      "attachments": {},
      "cell_type": "markdown",
      "metadata": {},
      "source": [
        "### Resetando index"
      ]
    },
    {
      "cell_type": "code",
      "execution_count": 362,
      "metadata": {},
      "outputs": [
        {
          "data": {
            "text/html": [
              "<div>\n",
              "<style scoped>\n",
              "    .dataframe tbody tr th:only-of-type {\n",
              "        vertical-align: middle;\n",
              "    }\n",
              "\n",
              "    .dataframe tbody tr th {\n",
              "        vertical-align: top;\n",
              "    }\n",
              "\n",
              "    .dataframe thead th {\n",
              "        text-align: right;\n",
              "    }\n",
              "</style>\n",
              "<table border=\"1\" class=\"dataframe\">\n",
              "  <thead>\n",
              "    <tr style=\"text-align: right;\">\n",
              "      <th></th>\n",
              "      <th>nome</th>\n",
              "      <th>porcentagem_desconto</th>\n",
              "      <th>preco</th>\n",
              "      <th>tipo</th>\n",
              "    </tr>\n",
              "  </thead>\n",
              "  <tbody>\n",
              "    <tr>\n",
              "      <th>0</th>\n",
              "      <td>DEVIL MAY CRY 5 + VERGIL</td>\n",
              "      <td>67</td>\n",
              "      <td>29.69</td>\n",
              "      <td>Padrao</td>\n",
              "    </tr>\n",
              "    <tr>\n",
              "      <th>1</th>\n",
              "      <td>Batman Arkham Origins  Season Pass</td>\n",
              "      <td>85</td>\n",
              "      <td>5.54</td>\n",
              "      <td>DLC</td>\n",
              "    </tr>\n",
              "    <tr>\n",
              "      <th>2</th>\n",
              "      <td>Street Fighter 6  Deluxe Edition</td>\n",
              "      <td>12</td>\n",
              "      <td>318.55</td>\n",
              "      <td>PreVenda</td>\n",
              "    </tr>\n",
              "    <tr>\n",
              "      <th>3</th>\n",
              "      <td>Mortal Kombat 11 Ultimate</td>\n",
              "      <td>80</td>\n",
              "      <td>55.99</td>\n",
              "      <td>Padrao</td>\n",
              "    </tr>\n",
              "    <tr>\n",
              "      <th>4</th>\n",
              "      <td>Xbox  Cartao Presente Digital 20 Reais</td>\n",
              "      <td>0</td>\n",
              "      <td>20.00</td>\n",
              "      <td>Padrao</td>\n",
              "    </tr>\n",
              "    <tr>\n",
              "      <th>...</th>\n",
              "      <td>...</td>\n",
              "      <td>...</td>\n",
              "      <td>...</td>\n",
              "      <td>...</td>\n",
              "    </tr>\n",
              "    <tr>\n",
              "      <th>594</th>\n",
              "      <td>Children of Morta Ancient Spirits</td>\n",
              "      <td>0</td>\n",
              "      <td>10.89</td>\n",
              "      <td>DLC</td>\n",
              "    </tr>\n",
              "    <tr>\n",
              "      <th>595</th>\n",
              "      <td>Conan Exiles  Architects of Argos Pack</td>\n",
              "      <td>25</td>\n",
              "      <td>18.74</td>\n",
              "      <td>DLC</td>\n",
              "    </tr>\n",
              "    <tr>\n",
              "      <th>596</th>\n",
              "      <td>Destiny 2 Alem da Luz</td>\n",
              "      <td>60</td>\n",
              "      <td>35.99</td>\n",
              "      <td>DLC</td>\n",
              "    </tr>\n",
              "    <tr>\n",
              "      <th>597</th>\n",
              "      <td>Crypt of the NecroDancer AMPLIFIED</td>\n",
              "      <td>0</td>\n",
              "      <td>13.99</td>\n",
              "      <td>DLC</td>\n",
              "    </tr>\n",
              "    <tr>\n",
              "      <th>598</th>\n",
              "      <td>UNO  Flip Theme</td>\n",
              "      <td>40</td>\n",
              "      <td>8.99</td>\n",
              "      <td>DLC</td>\n",
              "    </tr>\n",
              "  </tbody>\n",
              "</table>\n",
              "<p>599 rows × 4 columns</p>\n",
              "</div>"
            ],
            "text/plain": [
              "                                       nome porcentagem_desconto   preco   \n",
              "0                  DEVIL MAY CRY 5 + VERGIL                   67   29.69  \\\n",
              "1        Batman Arkham Origins  Season Pass                   85    5.54   \n",
              "2          Street Fighter 6  Deluxe Edition                   12  318.55   \n",
              "3                 Mortal Kombat 11 Ultimate                   80   55.99   \n",
              "4    Xbox  Cartao Presente Digital 20 Reais                    0   20.00   \n",
              "..                                      ...                  ...     ...   \n",
              "594       Children of Morta Ancient Spirits                    0   10.89   \n",
              "595  Conan Exiles  Architects of Argos Pack                   25   18.74   \n",
              "596                   Destiny 2 Alem da Luz                   60   35.99   \n",
              "597      Crypt of the NecroDancer AMPLIFIED                    0   13.99   \n",
              "598                         UNO  Flip Theme                   40    8.99   \n",
              "\n",
              "         tipo  \n",
              "0      Padrao  \n",
              "1         DLC  \n",
              "2    PreVenda  \n",
              "3      Padrao  \n",
              "4      Padrao  \n",
              "..        ...  \n",
              "594       DLC  \n",
              "595       DLC  \n",
              "596       DLC  \n",
              "597       DLC  \n",
              "598       DLC  \n",
              "\n",
              "[599 rows x 4 columns]"
            ]
          },
          "execution_count": 362,
          "metadata": {},
          "output_type": "execute_result"
        }
      ],
      "source": [
        "dados = dados.reset_index(drop=True)\n",
        "dados"
      ]
    },
    {
      "attachments": {},
      "cell_type": "markdown",
      "metadata": {},
      "source": [
        "## Tranformando texto para lower case e criando padrão de uso"
      ]
    },
    {
      "cell_type": "code",
      "execution_count": 363,
      "metadata": {
        "id": "6FNi7ZobUD93"
      },
      "outputs": [
        {
          "data": {
            "text/html": [
              "<div>\n",
              "<style scoped>\n",
              "    .dataframe tbody tr th:only-of-type {\n",
              "        vertical-align: middle;\n",
              "    }\n",
              "\n",
              "    .dataframe tbody tr th {\n",
              "        vertical-align: top;\n",
              "    }\n",
              "\n",
              "    .dataframe thead th {\n",
              "        text-align: right;\n",
              "    }\n",
              "</style>\n",
              "<table border=\"1\" class=\"dataframe\">\n",
              "  <thead>\n",
              "    <tr style=\"text-align: right;\">\n",
              "      <th></th>\n",
              "      <th>nome</th>\n",
              "      <th>porcentagem_desconto</th>\n",
              "      <th>preco</th>\n",
              "      <th>tipo</th>\n",
              "    </tr>\n",
              "  </thead>\n",
              "  <tbody>\n",
              "    <tr>\n",
              "      <th>0</th>\n",
              "      <td>devil may cry 5 + vergil</td>\n",
              "      <td>67</td>\n",
              "      <td>29.69</td>\n",
              "      <td>padrao</td>\n",
              "    </tr>\n",
              "    <tr>\n",
              "      <th>1</th>\n",
              "      <td>batman arkham origins  season pass</td>\n",
              "      <td>85</td>\n",
              "      <td>5.54</td>\n",
              "      <td>dlc</td>\n",
              "    </tr>\n",
              "    <tr>\n",
              "      <th>2</th>\n",
              "      <td>street fighter 6  deluxe edition</td>\n",
              "      <td>12</td>\n",
              "      <td>318.55</td>\n",
              "      <td>prevenda</td>\n",
              "    </tr>\n",
              "    <tr>\n",
              "      <th>3</th>\n",
              "      <td>mortal kombat 11 ultimate</td>\n",
              "      <td>80</td>\n",
              "      <td>55.99</td>\n",
              "      <td>padrao</td>\n",
              "    </tr>\n",
              "    <tr>\n",
              "      <th>4</th>\n",
              "      <td>xbox  cartao presente digital 20 reais</td>\n",
              "      <td>0</td>\n",
              "      <td>20.00</td>\n",
              "      <td>padrao</td>\n",
              "    </tr>\n",
              "    <tr>\n",
              "      <th>...</th>\n",
              "      <td>...</td>\n",
              "      <td>...</td>\n",
              "      <td>...</td>\n",
              "      <td>...</td>\n",
              "    </tr>\n",
              "    <tr>\n",
              "      <th>594</th>\n",
              "      <td>children of morta ancient spirits</td>\n",
              "      <td>0</td>\n",
              "      <td>10.89</td>\n",
              "      <td>dlc</td>\n",
              "    </tr>\n",
              "    <tr>\n",
              "      <th>595</th>\n",
              "      <td>conan exiles  architects of argos pack</td>\n",
              "      <td>25</td>\n",
              "      <td>18.74</td>\n",
              "      <td>dlc</td>\n",
              "    </tr>\n",
              "    <tr>\n",
              "      <th>596</th>\n",
              "      <td>destiny 2 alem da luz</td>\n",
              "      <td>60</td>\n",
              "      <td>35.99</td>\n",
              "      <td>dlc</td>\n",
              "    </tr>\n",
              "    <tr>\n",
              "      <th>597</th>\n",
              "      <td>crypt of the necrodancer amplified</td>\n",
              "      <td>0</td>\n",
              "      <td>13.99</td>\n",
              "      <td>dlc</td>\n",
              "    </tr>\n",
              "    <tr>\n",
              "      <th>598</th>\n",
              "      <td>uno  flip theme</td>\n",
              "      <td>40</td>\n",
              "      <td>8.99</td>\n",
              "      <td>dlc</td>\n",
              "    </tr>\n",
              "  </tbody>\n",
              "</table>\n",
              "<p>599 rows × 4 columns</p>\n",
              "</div>"
            ],
            "text/plain": [
              "                                       nome porcentagem_desconto   preco   \n",
              "0                  devil may cry 5 + vergil                   67   29.69  \\\n",
              "1        batman arkham origins  season pass                   85    5.54   \n",
              "2          street fighter 6  deluxe edition                   12  318.55   \n",
              "3                 mortal kombat 11 ultimate                   80   55.99   \n",
              "4    xbox  cartao presente digital 20 reais                    0   20.00   \n",
              "..                                      ...                  ...     ...   \n",
              "594       children of morta ancient spirits                    0   10.89   \n",
              "595  conan exiles  architects of argos pack                   25   18.74   \n",
              "596                   destiny 2 alem da luz                   60   35.99   \n",
              "597      crypt of the necrodancer amplified                    0   13.99   \n",
              "598                         uno  flip theme                   40    8.99   \n",
              "\n",
              "         tipo  \n",
              "0      padrao  \n",
              "1         dlc  \n",
              "2    prevenda  \n",
              "3      padrao  \n",
              "4      padrao  \n",
              "..        ...  \n",
              "594       dlc  \n",
              "595       dlc  \n",
              "596       dlc  \n",
              "597       dlc  \n",
              "598       dlc  \n",
              "\n",
              "[599 rows x 4 columns]"
            ]
          },
          "execution_count": 363,
          "metadata": {},
          "output_type": "execute_result"
        }
      ],
      "source": [
        "dados.nome = dados.nome.str.lower()\n",
        "dados.tipo = dados.tipo.str.lower()\n",
        "dados"
      ]
    },
    {
      "attachments": {},
      "cell_type": "markdown",
      "metadata": {},
      "source": [
        "## Tratamento de Outlier\n",
        "\n",
        "Ao realizar análise dos outlier da base, verificamos que apesar de fora do desvio padrão, estes dados não deveriam ser descartados, uma vez que representam o valor real do item."
      ]
    },
    {
      "cell_type": "code",
      "execution_count": 364,
      "metadata": {},
      "outputs": [
        {
          "data": {
            "application/vnd.plotly.v1+json": {
              "config": {
                "plotlyServerURL": "https://plot.ly"
              },
              "data": [
                {
                  "alignmentgroup": "True",
                  "hovertemplate": "variable=%{x}<br>value=%{y}<extra></extra>",
                  "legendgroup": "",
                  "marker": {
                    "color": "#636efa"
                  },
                  "name": "",
                  "notched": false,
                  "offsetgroup": "",
                  "orientation": "v",
                  "showlegend": false,
                  "type": "box",
                  "x": [
                    "preco",
                    "preco",
                    "preco",
                    "preco",
                    "preco",
                    "preco",
                    "preco",
                    "preco",
                    "preco",
                    "preco",
                    "preco",
                    "preco",
                    "preco",
                    "preco",
                    "preco",
                    "preco",
                    "preco",
                    "preco",
                    "preco",
                    "preco",
                    "preco",
                    "preco",
                    "preco",
                    "preco",
                    "preco",
                    "preco",
                    "preco",
                    "preco",
                    "preco",
                    "preco",
                    "preco",
                    "preco",
                    "preco",
                    "preco",
                    "preco",
                    "preco",
                    "preco",
                    "preco",
                    "preco",
                    "preco",
                    "preco",
                    "preco",
                    "preco",
                    "preco",
                    "preco",
                    "preco",
                    "preco",
                    "preco",
                    "preco",
                    "preco",
                    "preco",
                    "preco",
                    "preco",
                    "preco",
                    "preco",
                    "preco",
                    "preco",
                    "preco",
                    "preco",
                    "preco",
                    "preco",
                    "preco",
                    "preco",
                    "preco",
                    "preco",
                    "preco",
                    "preco",
                    "preco",
                    "preco",
                    "preco",
                    "preco",
                    "preco",
                    "preco",
                    "preco",
                    "preco",
                    "preco",
                    "preco",
                    "preco",
                    "preco",
                    "preco",
                    "preco",
                    "preco",
                    "preco",
                    "preco",
                    "preco",
                    "preco",
                    "preco",
                    "preco",
                    "preco",
                    "preco",
                    "preco",
                    "preco",
                    "preco",
                    "preco",
                    "preco",
                    "preco",
                    "preco",
                    "preco",
                    "preco",
                    "preco",
                    "preco",
                    "preco",
                    "preco",
                    "preco",
                    "preco",
                    "preco",
                    "preco",
                    "preco",
                    "preco",
                    "preco",
                    "preco",
                    "preco",
                    "preco",
                    "preco",
                    "preco",
                    "preco",
                    "preco",
                    "preco",
                    "preco",
                    "preco",
                    "preco",
                    "preco",
                    "preco",
                    "preco",
                    "preco",
                    "preco",
                    "preco",
                    "preco",
                    "preco",
                    "preco",
                    "preco",
                    "preco",
                    "preco",
                    "preco",
                    "preco",
                    "preco",
                    "preco",
                    "preco",
                    "preco",
                    "preco",
                    "preco",
                    "preco",
                    "preco",
                    "preco",
                    "preco",
                    "preco",
                    "preco",
                    "preco",
                    "preco",
                    "preco",
                    "preco",
                    "preco",
                    "preco",
                    "preco",
                    "preco",
                    "preco",
                    "preco",
                    "preco",
                    "preco",
                    "preco",
                    "preco",
                    "preco",
                    "preco",
                    "preco",
                    "preco",
                    "preco",
                    "preco",
                    "preco",
                    "preco",
                    "preco",
                    "preco",
                    "preco",
                    "preco",
                    "preco",
                    "preco",
                    "preco",
                    "preco",
                    "preco",
                    "preco",
                    "preco",
                    "preco",
                    "preco",
                    "preco",
                    "preco",
                    "preco",
                    "preco",
                    "preco",
                    "preco",
                    "preco",
                    "preco",
                    "preco",
                    "preco",
                    "preco",
                    "preco",
                    "preco",
                    "preco",
                    "preco",
                    "preco",
                    "preco",
                    "preco",
                    "preco",
                    "preco",
                    "preco",
                    "preco",
                    "preco",
                    "preco",
                    "preco",
                    "preco",
                    "preco",
                    "preco",
                    "preco",
                    "preco",
                    "preco",
                    "preco",
                    "preco",
                    "preco",
                    "preco",
                    "preco",
                    "preco",
                    "preco",
                    "preco",
                    "preco",
                    "preco",
                    "preco",
                    "preco",
                    "preco",
                    "preco",
                    "preco",
                    "preco",
                    "preco",
                    "preco",
                    "preco",
                    "preco",
                    "preco",
                    "preco",
                    "preco",
                    "preco",
                    "preco",
                    "preco",
                    "preco",
                    "preco",
                    "preco",
                    "preco",
                    "preco",
                    "preco",
                    "preco",
                    "preco",
                    "preco",
                    "preco",
                    "preco",
                    "preco",
                    "preco",
                    "preco",
                    "preco",
                    "preco",
                    "preco",
                    "preco",
                    "preco",
                    "preco",
                    "preco",
                    "preco",
                    "preco",
                    "preco",
                    "preco",
                    "preco",
                    "preco",
                    "preco",
                    "preco",
                    "preco",
                    "preco",
                    "preco",
                    "preco",
                    "preco",
                    "preco",
                    "preco",
                    "preco",
                    "preco",
                    "preco",
                    "preco",
                    "preco",
                    "preco",
                    "preco",
                    "preco",
                    "preco",
                    "preco",
                    "preco",
                    "preco",
                    "preco",
                    "preco",
                    "preco",
                    "preco",
                    "preco",
                    "preco",
                    "preco",
                    "preco",
                    "preco",
                    "preco",
                    "preco",
                    "preco",
                    "preco",
                    "preco",
                    "preco",
                    "preco",
                    "preco",
                    "preco",
                    "preco",
                    "preco",
                    "preco",
                    "preco",
                    "preco",
                    "preco",
                    "preco",
                    "preco",
                    "preco",
                    "preco",
                    "preco",
                    "preco",
                    "preco",
                    "preco",
                    "preco",
                    "preco",
                    "preco",
                    "preco",
                    "preco",
                    "preco",
                    "preco",
                    "preco",
                    "preco",
                    "preco",
                    "preco",
                    "preco",
                    "preco",
                    "preco",
                    "preco",
                    "preco",
                    "preco",
                    "preco",
                    "preco",
                    "preco",
                    "preco",
                    "preco",
                    "preco",
                    "preco",
                    "preco",
                    "preco",
                    "preco",
                    "preco",
                    "preco",
                    "preco",
                    "preco",
                    "preco",
                    "preco",
                    "preco",
                    "preco",
                    "preco",
                    "preco",
                    "preco",
                    "preco",
                    "preco",
                    "preco",
                    "preco",
                    "preco",
                    "preco",
                    "preco",
                    "preco",
                    "preco",
                    "preco",
                    "preco",
                    "preco",
                    "preco",
                    "preco",
                    "preco",
                    "preco",
                    "preco",
                    "preco",
                    "preco",
                    "preco",
                    "preco",
                    "preco",
                    "preco",
                    "preco",
                    "preco",
                    "preco",
                    "preco",
                    "preco",
                    "preco",
                    "preco",
                    "preco",
                    "preco",
                    "preco",
                    "preco",
                    "preco",
                    "preco",
                    "preco",
                    "preco",
                    "preco",
                    "preco",
                    "preco",
                    "preco",
                    "preco",
                    "preco",
                    "preco",
                    "preco",
                    "preco",
                    "preco",
                    "preco",
                    "preco",
                    "preco",
                    "preco",
                    "preco",
                    "preco",
                    "preco",
                    "preco",
                    "preco",
                    "preco",
                    "preco",
                    "preco",
                    "preco",
                    "preco",
                    "preco",
                    "preco",
                    "preco",
                    "preco",
                    "preco",
                    "preco",
                    "preco",
                    "preco",
                    "preco",
                    "preco",
                    "preco",
                    "preco",
                    "preco",
                    "preco",
                    "preco",
                    "preco",
                    "preco",
                    "preco",
                    "preco",
                    "preco",
                    "preco",
                    "preco",
                    "preco",
                    "preco",
                    "preco",
                    "preco",
                    "preco",
                    "preco",
                    "preco",
                    "preco",
                    "preco",
                    "preco",
                    "preco",
                    "preco",
                    "preco",
                    "preco",
                    "preco",
                    "preco",
                    "preco",
                    "preco",
                    "preco",
                    "preco",
                    "preco",
                    "preco",
                    "preco",
                    "preco",
                    "preco",
                    "preco",
                    "preco",
                    "preco",
                    "preco",
                    "preco",
                    "preco",
                    "preco",
                    "preco",
                    "preco",
                    "preco",
                    "preco",
                    "preco",
                    "preco",
                    "preco",
                    "preco",
                    "preco",
                    "preco",
                    "preco",
                    "preco",
                    "preco",
                    "preco",
                    "preco",
                    "preco",
                    "preco",
                    "preco",
                    "preco",
                    "preco",
                    "preco",
                    "preco",
                    "preco",
                    "preco",
                    "preco",
                    "preco",
                    "preco",
                    "preco",
                    "preco",
                    "preco",
                    "preco",
                    "preco",
                    "preco",
                    "preco",
                    "preco",
                    "preco",
                    "preco",
                    "preco",
                    "preco",
                    "preco",
                    "preco",
                    "preco",
                    "preco",
                    "preco",
                    "preco",
                    "preco",
                    "preco",
                    "preco",
                    "preco",
                    "preco",
                    "preco",
                    "preco",
                    "preco",
                    "preco",
                    "preco",
                    "preco",
                    "preco",
                    "preco",
                    "preco",
                    "preco",
                    "preco",
                    "preco",
                    "preco",
                    "preco",
                    "preco",
                    "preco",
                    "preco",
                    "preco",
                    "preco",
                    "preco",
                    "preco",
                    "preco",
                    "preco",
                    "preco",
                    "preco",
                    "preco",
                    "preco",
                    "preco",
                    "preco",
                    "preco",
                    "preco",
                    "preco",
                    "preco",
                    "preco",
                    "preco",
                    "preco",
                    "preco",
                    "preco",
                    "preco",
                    "preco",
                    "preco",
                    "preco",
                    "preco",
                    "preco",
                    "preco",
                    "preco",
                    "preco",
                    "preco",
                    "preco",
                    "preco",
                    "preco",
                    "preco",
                    "preco",
                    "preco",
                    "preco",
                    "preco",
                    "preco",
                    "preco",
                    "preco",
                    "preco",
                    "preco",
                    "preco",
                    "preco",
                    "preco",
                    "preco",
                    "preco",
                    "preco",
                    "preco",
                    "preco",
                    "preco",
                    "preco",
                    "preco",
                    "preco",
                    "preco",
                    "preco",
                    "preco"
                  ],
                  "x0": " ",
                  "xaxis": "x",
                  "y": [
                    29.69,
                    5.54,
                    318.55,
                    55.99,
                    20,
                    41.99,
                    39.99,
                    13.49,
                    386.9,
                    70,
                    8,
                    10.49,
                    23.09,
                    15.99,
                    26.99,
                    31,
                    17.99,
                    73.99,
                    14.99,
                    8.09,
                    10.79,
                    219.11,
                    27.49,
                    4.5,
                    22.64,
                    8.99,
                    49.99,
                    22.99,
                    6.5,
                    5.99,
                    8.99,
                    4.5,
                    8.99,
                    23.99,
                    44.99,
                    3.5,
                    4.5,
                    59.9,
                    50,
                    3.59,
                    30.39,
                    34.79,
                    11.24,
                    16.55,
                    4.5,
                    4.5,
                    99.99,
                    4.5,
                    4.5,
                    11.49,
                    36.99,
                    27.99,
                    4.5,
                    8,
                    34.99,
                    12.99,
                    39.99,
                    59.9,
                    15.37,
                    9,
                    161.2,
                    69.99,
                    14.99,
                    39.99,
                    44.99,
                    5.23,
                    3.73,
                    21.24,
                    13.49,
                    5.99,
                    44.99,
                    10.49,
                    14.99,
                    54.49,
                    12.49,
                    5.99,
                    24.99,
                    74.99,
                    240.69,
                    37.25,
                    3.69,
                    20,
                    8.99,
                    32.49,
                    14.99,
                    49.99,
                    17.99,
                    50,
                    9.99,
                    28.99,
                    100,
                    10,
                    129,
                    4.5,
                    19.79,
                    7.79,
                    40,
                    3.59,
                    19.99,
                    60,
                    220.99,
                    28.09,
                    59.99,
                    59.99,
                    19.4,
                    8.99,
                    13.79,
                    2.79,
                    2.49,
                    4.5,
                    34.99,
                    8.39,
                    2.19,
                    2.19,
                    15,
                    5.99,
                    11.99,
                    5.99,
                    68.99,
                    5.99,
                    14.99,
                    2.19,
                    393.35,
                    23.8,
                    19.48,
                    59.99,
                    199.9,
                    1.49,
                    29.99,
                    39.97,
                    17.99,
                    25.99,
                    59.9,
                    35.99,
                    10.49,
                    9.99,
                    66.59,
                    17.99,
                    6.5,
                    12.49,
                    100,
                    22.49,
                    12.75,
                    3.5,
                    4.5,
                    27.99,
                    9.99,
                    98.99,
                    72.99,
                    13.49,
                    6.5,
                    9.99,
                    4.5,
                    5,
                    200,
                    4.5,
                    25,
                    13.49,
                    2.99,
                    13.49,
                    32.99,
                    2.29,
                    49.99,
                    5.99,
                    44.99,
                    68.74,
                    34.48,
                    74.99,
                    11.99,
                    11.24,
                    71.9,
                    99.99,
                    7.49,
                    111.96,
                    148.9,
                    29.99,
                    4.5,
                    70.49,
                    2.29,
                    62.47,
                    37.99,
                    23.25,
                    38.99,
                    4.99,
                    10.49,
                    47.99,
                    223.99,
                    32.23,
                    17.99,
                    17.99,
                    129.99,
                    46.99,
                    8.99,
                    2.69,
                    26.24,
                    44.99,
                    45.99,
                    15.6,
                    104.99,
                    36.74,
                    101.94,
                    149.99,
                    29.69,
                    25.99,
                    37.35,
                    17.99,
                    150,
                    17.99,
                    17.99,
                    11.99,
                    18.49,
                    85,
                    82.17,
                    52.49,
                    115.26,
                    83.6,
                    62.95,
                    59.9,
                    26.49,
                    23.09,
                    8.99,
                    224.99,
                    49.17,
                    28.49,
                    22.49,
                    79.43,
                    59.23,
                    24.99,
                    88.99,
                    22.99,
                    35.99,
                    16.99,
                    39.5,
                    139.99,
                    41.99,
                    26.99,
                    19.97,
                    27.99,
                    23.98,
                    12.49,
                    44.99,
                    14.99,
                    49.99,
                    12.19,
                    8.99,
                    29.99,
                    46.99,
                    69.95,
                    17.99,
                    59.99,
                    7.49,
                    105,
                    35.8,
                    22.48,
                    2,
                    13.49,
                    16.49,
                    17.99,
                    22.49,
                    22.49,
                    11.49,
                    35.98,
                    18.19,
                    15.59,
                    4.99,
                    71.6,
                    26.99,
                    29.99,
                    34.99,
                    26.99,
                    65.99,
                    15.99,
                    59.99,
                    17.99,
                    79.99,
                    37.99,
                    6.49,
                    11.99,
                    134.99,
                    3.59,
                    269.98,
                    79.99,
                    41.24,
                    108.99,
                    29.69,
                    5.79,
                    8.67,
                    49.99,
                    32.49,
                    14.72,
                    17.99,
                    45.99,
                    4.99,
                    4.99,
                    13.19,
                    71.99,
                    39.99,
                    200.99,
                    37.49,
                    22.99,
                    79,
                    59.99,
                    32.98,
                    14.99,
                    129.99,
                    62.47,
                    4.13,
                    27.99,
                    49.99,
                    19.99,
                    129.99,
                    16.99,
                    10.49,
                    63.99,
                    9.99,
                    6.29,
                    4.49,
                    69.99,
                    51.99,
                    18.89,
                    54.49,
                    119,
                    18.19,
                    25.34,
                    31.99,
                    17.99,
                    86.49,
                    62.49,
                    35.99,
                    19.79,
                    15.99,
                    22.49,
                    22.49,
                    7.49,
                    22.49,
                    7.49,
                    114.68,
                    4.49,
                    125,
                    199.99,
                    59.99,
                    41.99,
                    71.99,
                    29.99,
                    23.99,
                    16.99,
                    75.49,
                    46.99,
                    49.74,
                    18.99,
                    46.99,
                    22.49,
                    4.99,
                    11.99,
                    27.99,
                    50.17,
                    12.19,
                    87.49,
                    74.99,
                    13.99,
                    9.49,
                    17.99,
                    29.99,
                    9.99,
                    89.99,
                    4.29,
                    65.99,
                    38.99,
                    79.99,
                    37.49,
                    59.99,
                    13.99,
                    17.99,
                    19.99,
                    16.99,
                    14.99,
                    40.14,
                    19.99,
                    299,
                    45.99,
                    17.99,
                    14.49,
                    5.94,
                    75.49,
                    159.9,
                    10.89,
                    1.59,
                    13.49,
                    79.9,
                    19.99,
                    26.69,
                    20.69,
                    10.88,
                    37.49,
                    5.49,
                    39.99,
                    35.99,
                    6.49,
                    4.49,
                    19.99,
                    37.99,
                    10.99,
                    3.69,
                    25.49,
                    11.24,
                    17.99,
                    18.89,
                    28.99,
                    39.95,
                    47.6,
                    15.19,
                    39.99,
                    31.99,
                    12.19,
                    10.49,
                    11.74,
                    4.49,
                    4.49,
                    268.9,
                    44.99,
                    46.99,
                    55,
                    79.99,
                    99.99,
                    99.99,
                    99,
                    127.99,
                    94.49,
                    230.99,
                    23.99,
                    44.99,
                    44.99,
                    53.99,
                    214.91,
                    1.99,
                    1.99,
                    11.99,
                    47.49,
                    31.49,
                    79,
                    119.99,
                    111.6,
                    84.12,
                    35.99,
                    62.99,
                    71.98,
                    93.99,
                    59.99,
                    1.69,
                    19.99,
                    15.99,
                    57.99,
                    18.99,
                    2.79,
                    39.99,
                    11.99,
                    14.99,
                    11.24,
                    10.49,
                    11.99,
                    165.99,
                    14.49,
                    49.98,
                    3.99,
                    37.99,
                    29.99,
                    14.99,
                    10.99,
                    28.99,
                    74.99,
                    59.99,
                    59.99,
                    44.99,
                    89.9,
                    59.99,
                    11.87,
                    162,
                    7.59,
                    99.99,
                    32.39,
                    47.49,
                    7.19,
                    9.19,
                    41.99,
                    4.49,
                    4.49,
                    21.99,
                    6.53,
                    31.99,
                    17.99,
                    26.99,
                    24.95,
                    4.49,
                    7.49,
                    1.99,
                    122.4,
                    293.69,
                    41.99,
                    64.99,
                    149,
                    54.99,
                    11.74,
                    31.99,
                    63.72,
                    5.99,
                    6.32,
                    4.49,
                    110.99,
                    78.74,
                    87.49,
                    249.75,
                    69.99,
                    51.99,
                    120,
                    7.9,
                    37.99,
                    34.99,
                    229.99,
                    2.07,
                    37.99,
                    29.99,
                    5.59,
                    49.99,
                    199.9,
                    119.99,
                    10.49,
                    84.99,
                    16.49,
                    18.79,
                    32.99,
                    4.49,
                    73.99,
                    3.39,
                    81.99,
                    19.97,
                    49.99,
                    18.99,
                    22.49,
                    13.74,
                    25.99,
                    17.49,
                    149.9,
                    17.25,
                    88.99,
                    17.99,
                    13.49,
                    27.99,
                    9.99,
                    27.99,
                    19.99,
                    19.99,
                    13.49,
                    17.99,
                    7.49,
                    82.42,
                    49.95,
                    8.71,
                    7.62,
                    18.74,
                    21.99,
                    21.99,
                    9.5,
                    78.02,
                    37.99,
                    12.39,
                    17.99,
                    7.49,
                    19.99,
                    5.99,
                    4.29,
                    22.49,
                    10.49,
                    10.49,
                    10.49,
                    17.99,
                    26.99,
                    14.99,
                    16.99,
                    269.49,
                    8.99,
                    36.99,
                    16.99,
                    7.19,
                    23.99,
                    26.69,
                    16.99,
                    8.99,
                    18.99,
                    7.49,
                    23.5,
                    11.99,
                    7.49,
                    46.99,
                    19.99,
                    10.89,
                    18.74,
                    35.99,
                    13.99,
                    8.99
                  ],
                  "y0": " ",
                  "yaxis": "y"
                }
              ],
              "layout": {
                "boxmode": "group",
                "legend": {
                  "tracegroupgap": 0
                },
                "margin": {
                  "t": 60
                },
                "template": {
                  "data": {
                    "bar": [
                      {
                        "error_x": {
                          "color": "#2a3f5f"
                        },
                        "error_y": {
                          "color": "#2a3f5f"
                        },
                        "marker": {
                          "line": {
                            "color": "#E5ECF6",
                            "width": 0.5
                          },
                          "pattern": {
                            "fillmode": "overlay",
                            "size": 10,
                            "solidity": 0.2
                          }
                        },
                        "type": "bar"
                      }
                    ],
                    "barpolar": [
                      {
                        "marker": {
                          "line": {
                            "color": "#E5ECF6",
                            "width": 0.5
                          },
                          "pattern": {
                            "fillmode": "overlay",
                            "size": 10,
                            "solidity": 0.2
                          }
                        },
                        "type": "barpolar"
                      }
                    ],
                    "carpet": [
                      {
                        "aaxis": {
                          "endlinecolor": "#2a3f5f",
                          "gridcolor": "white",
                          "linecolor": "white",
                          "minorgridcolor": "white",
                          "startlinecolor": "#2a3f5f"
                        },
                        "baxis": {
                          "endlinecolor": "#2a3f5f",
                          "gridcolor": "white",
                          "linecolor": "white",
                          "minorgridcolor": "white",
                          "startlinecolor": "#2a3f5f"
                        },
                        "type": "carpet"
                      }
                    ],
                    "choropleth": [
                      {
                        "colorbar": {
                          "outlinewidth": 0,
                          "ticks": ""
                        },
                        "type": "choropleth"
                      }
                    ],
                    "contour": [
                      {
                        "colorbar": {
                          "outlinewidth": 0,
                          "ticks": ""
                        },
                        "colorscale": [
                          [
                            0,
                            "#0d0887"
                          ],
                          [
                            0.1111111111111111,
                            "#46039f"
                          ],
                          [
                            0.2222222222222222,
                            "#7201a8"
                          ],
                          [
                            0.3333333333333333,
                            "#9c179e"
                          ],
                          [
                            0.4444444444444444,
                            "#bd3786"
                          ],
                          [
                            0.5555555555555556,
                            "#d8576b"
                          ],
                          [
                            0.6666666666666666,
                            "#ed7953"
                          ],
                          [
                            0.7777777777777778,
                            "#fb9f3a"
                          ],
                          [
                            0.8888888888888888,
                            "#fdca26"
                          ],
                          [
                            1,
                            "#f0f921"
                          ]
                        ],
                        "type": "contour"
                      }
                    ],
                    "contourcarpet": [
                      {
                        "colorbar": {
                          "outlinewidth": 0,
                          "ticks": ""
                        },
                        "type": "contourcarpet"
                      }
                    ],
                    "heatmap": [
                      {
                        "colorbar": {
                          "outlinewidth": 0,
                          "ticks": ""
                        },
                        "colorscale": [
                          [
                            0,
                            "#0d0887"
                          ],
                          [
                            0.1111111111111111,
                            "#46039f"
                          ],
                          [
                            0.2222222222222222,
                            "#7201a8"
                          ],
                          [
                            0.3333333333333333,
                            "#9c179e"
                          ],
                          [
                            0.4444444444444444,
                            "#bd3786"
                          ],
                          [
                            0.5555555555555556,
                            "#d8576b"
                          ],
                          [
                            0.6666666666666666,
                            "#ed7953"
                          ],
                          [
                            0.7777777777777778,
                            "#fb9f3a"
                          ],
                          [
                            0.8888888888888888,
                            "#fdca26"
                          ],
                          [
                            1,
                            "#f0f921"
                          ]
                        ],
                        "type": "heatmap"
                      }
                    ],
                    "heatmapgl": [
                      {
                        "colorbar": {
                          "outlinewidth": 0,
                          "ticks": ""
                        },
                        "colorscale": [
                          [
                            0,
                            "#0d0887"
                          ],
                          [
                            0.1111111111111111,
                            "#46039f"
                          ],
                          [
                            0.2222222222222222,
                            "#7201a8"
                          ],
                          [
                            0.3333333333333333,
                            "#9c179e"
                          ],
                          [
                            0.4444444444444444,
                            "#bd3786"
                          ],
                          [
                            0.5555555555555556,
                            "#d8576b"
                          ],
                          [
                            0.6666666666666666,
                            "#ed7953"
                          ],
                          [
                            0.7777777777777778,
                            "#fb9f3a"
                          ],
                          [
                            0.8888888888888888,
                            "#fdca26"
                          ],
                          [
                            1,
                            "#f0f921"
                          ]
                        ],
                        "type": "heatmapgl"
                      }
                    ],
                    "histogram": [
                      {
                        "marker": {
                          "pattern": {
                            "fillmode": "overlay",
                            "size": 10,
                            "solidity": 0.2
                          }
                        },
                        "type": "histogram"
                      }
                    ],
                    "histogram2d": [
                      {
                        "colorbar": {
                          "outlinewidth": 0,
                          "ticks": ""
                        },
                        "colorscale": [
                          [
                            0,
                            "#0d0887"
                          ],
                          [
                            0.1111111111111111,
                            "#46039f"
                          ],
                          [
                            0.2222222222222222,
                            "#7201a8"
                          ],
                          [
                            0.3333333333333333,
                            "#9c179e"
                          ],
                          [
                            0.4444444444444444,
                            "#bd3786"
                          ],
                          [
                            0.5555555555555556,
                            "#d8576b"
                          ],
                          [
                            0.6666666666666666,
                            "#ed7953"
                          ],
                          [
                            0.7777777777777778,
                            "#fb9f3a"
                          ],
                          [
                            0.8888888888888888,
                            "#fdca26"
                          ],
                          [
                            1,
                            "#f0f921"
                          ]
                        ],
                        "type": "histogram2d"
                      }
                    ],
                    "histogram2dcontour": [
                      {
                        "colorbar": {
                          "outlinewidth": 0,
                          "ticks": ""
                        },
                        "colorscale": [
                          [
                            0,
                            "#0d0887"
                          ],
                          [
                            0.1111111111111111,
                            "#46039f"
                          ],
                          [
                            0.2222222222222222,
                            "#7201a8"
                          ],
                          [
                            0.3333333333333333,
                            "#9c179e"
                          ],
                          [
                            0.4444444444444444,
                            "#bd3786"
                          ],
                          [
                            0.5555555555555556,
                            "#d8576b"
                          ],
                          [
                            0.6666666666666666,
                            "#ed7953"
                          ],
                          [
                            0.7777777777777778,
                            "#fb9f3a"
                          ],
                          [
                            0.8888888888888888,
                            "#fdca26"
                          ],
                          [
                            1,
                            "#f0f921"
                          ]
                        ],
                        "type": "histogram2dcontour"
                      }
                    ],
                    "mesh3d": [
                      {
                        "colorbar": {
                          "outlinewidth": 0,
                          "ticks": ""
                        },
                        "type": "mesh3d"
                      }
                    ],
                    "parcoords": [
                      {
                        "line": {
                          "colorbar": {
                            "outlinewidth": 0,
                            "ticks": ""
                          }
                        },
                        "type": "parcoords"
                      }
                    ],
                    "pie": [
                      {
                        "automargin": true,
                        "type": "pie"
                      }
                    ],
                    "scatter": [
                      {
                        "fillpattern": {
                          "fillmode": "overlay",
                          "size": 10,
                          "solidity": 0.2
                        },
                        "type": "scatter"
                      }
                    ],
                    "scatter3d": [
                      {
                        "line": {
                          "colorbar": {
                            "outlinewidth": 0,
                            "ticks": ""
                          }
                        },
                        "marker": {
                          "colorbar": {
                            "outlinewidth": 0,
                            "ticks": ""
                          }
                        },
                        "type": "scatter3d"
                      }
                    ],
                    "scattercarpet": [
                      {
                        "marker": {
                          "colorbar": {
                            "outlinewidth": 0,
                            "ticks": ""
                          }
                        },
                        "type": "scattercarpet"
                      }
                    ],
                    "scattergeo": [
                      {
                        "marker": {
                          "colorbar": {
                            "outlinewidth": 0,
                            "ticks": ""
                          }
                        },
                        "type": "scattergeo"
                      }
                    ],
                    "scattergl": [
                      {
                        "marker": {
                          "colorbar": {
                            "outlinewidth": 0,
                            "ticks": ""
                          }
                        },
                        "type": "scattergl"
                      }
                    ],
                    "scattermapbox": [
                      {
                        "marker": {
                          "colorbar": {
                            "outlinewidth": 0,
                            "ticks": ""
                          }
                        },
                        "type": "scattermapbox"
                      }
                    ],
                    "scatterpolar": [
                      {
                        "marker": {
                          "colorbar": {
                            "outlinewidth": 0,
                            "ticks": ""
                          }
                        },
                        "type": "scatterpolar"
                      }
                    ],
                    "scatterpolargl": [
                      {
                        "marker": {
                          "colorbar": {
                            "outlinewidth": 0,
                            "ticks": ""
                          }
                        },
                        "type": "scatterpolargl"
                      }
                    ],
                    "scatterternary": [
                      {
                        "marker": {
                          "colorbar": {
                            "outlinewidth": 0,
                            "ticks": ""
                          }
                        },
                        "type": "scatterternary"
                      }
                    ],
                    "surface": [
                      {
                        "colorbar": {
                          "outlinewidth": 0,
                          "ticks": ""
                        },
                        "colorscale": [
                          [
                            0,
                            "#0d0887"
                          ],
                          [
                            0.1111111111111111,
                            "#46039f"
                          ],
                          [
                            0.2222222222222222,
                            "#7201a8"
                          ],
                          [
                            0.3333333333333333,
                            "#9c179e"
                          ],
                          [
                            0.4444444444444444,
                            "#bd3786"
                          ],
                          [
                            0.5555555555555556,
                            "#d8576b"
                          ],
                          [
                            0.6666666666666666,
                            "#ed7953"
                          ],
                          [
                            0.7777777777777778,
                            "#fb9f3a"
                          ],
                          [
                            0.8888888888888888,
                            "#fdca26"
                          ],
                          [
                            1,
                            "#f0f921"
                          ]
                        ],
                        "type": "surface"
                      }
                    ],
                    "table": [
                      {
                        "cells": {
                          "fill": {
                            "color": "#EBF0F8"
                          },
                          "line": {
                            "color": "white"
                          }
                        },
                        "header": {
                          "fill": {
                            "color": "#C8D4E3"
                          },
                          "line": {
                            "color": "white"
                          }
                        },
                        "type": "table"
                      }
                    ]
                  },
                  "layout": {
                    "annotationdefaults": {
                      "arrowcolor": "#2a3f5f",
                      "arrowhead": 0,
                      "arrowwidth": 1
                    },
                    "autotypenumbers": "strict",
                    "coloraxis": {
                      "colorbar": {
                        "outlinewidth": 0,
                        "ticks": ""
                      }
                    },
                    "colorscale": {
                      "diverging": [
                        [
                          0,
                          "#8e0152"
                        ],
                        [
                          0.1,
                          "#c51b7d"
                        ],
                        [
                          0.2,
                          "#de77ae"
                        ],
                        [
                          0.3,
                          "#f1b6da"
                        ],
                        [
                          0.4,
                          "#fde0ef"
                        ],
                        [
                          0.5,
                          "#f7f7f7"
                        ],
                        [
                          0.6,
                          "#e6f5d0"
                        ],
                        [
                          0.7,
                          "#b8e186"
                        ],
                        [
                          0.8,
                          "#7fbc41"
                        ],
                        [
                          0.9,
                          "#4d9221"
                        ],
                        [
                          1,
                          "#276419"
                        ]
                      ],
                      "sequential": [
                        [
                          0,
                          "#0d0887"
                        ],
                        [
                          0.1111111111111111,
                          "#46039f"
                        ],
                        [
                          0.2222222222222222,
                          "#7201a8"
                        ],
                        [
                          0.3333333333333333,
                          "#9c179e"
                        ],
                        [
                          0.4444444444444444,
                          "#bd3786"
                        ],
                        [
                          0.5555555555555556,
                          "#d8576b"
                        ],
                        [
                          0.6666666666666666,
                          "#ed7953"
                        ],
                        [
                          0.7777777777777778,
                          "#fb9f3a"
                        ],
                        [
                          0.8888888888888888,
                          "#fdca26"
                        ],
                        [
                          1,
                          "#f0f921"
                        ]
                      ],
                      "sequentialminus": [
                        [
                          0,
                          "#0d0887"
                        ],
                        [
                          0.1111111111111111,
                          "#46039f"
                        ],
                        [
                          0.2222222222222222,
                          "#7201a8"
                        ],
                        [
                          0.3333333333333333,
                          "#9c179e"
                        ],
                        [
                          0.4444444444444444,
                          "#bd3786"
                        ],
                        [
                          0.5555555555555556,
                          "#d8576b"
                        ],
                        [
                          0.6666666666666666,
                          "#ed7953"
                        ],
                        [
                          0.7777777777777778,
                          "#fb9f3a"
                        ],
                        [
                          0.8888888888888888,
                          "#fdca26"
                        ],
                        [
                          1,
                          "#f0f921"
                        ]
                      ]
                    },
                    "colorway": [
                      "#636efa",
                      "#EF553B",
                      "#00cc96",
                      "#ab63fa",
                      "#FFA15A",
                      "#19d3f3",
                      "#FF6692",
                      "#B6E880",
                      "#FF97FF",
                      "#FECB52"
                    ],
                    "font": {
                      "color": "#2a3f5f"
                    },
                    "geo": {
                      "bgcolor": "white",
                      "lakecolor": "white",
                      "landcolor": "#E5ECF6",
                      "showlakes": true,
                      "showland": true,
                      "subunitcolor": "white"
                    },
                    "hoverlabel": {
                      "align": "left"
                    },
                    "hovermode": "closest",
                    "mapbox": {
                      "style": "light"
                    },
                    "paper_bgcolor": "white",
                    "plot_bgcolor": "#E5ECF6",
                    "polar": {
                      "angularaxis": {
                        "gridcolor": "white",
                        "linecolor": "white",
                        "ticks": ""
                      },
                      "bgcolor": "#E5ECF6",
                      "radialaxis": {
                        "gridcolor": "white",
                        "linecolor": "white",
                        "ticks": ""
                      }
                    },
                    "scene": {
                      "xaxis": {
                        "backgroundcolor": "#E5ECF6",
                        "gridcolor": "white",
                        "gridwidth": 2,
                        "linecolor": "white",
                        "showbackground": true,
                        "ticks": "",
                        "zerolinecolor": "white"
                      },
                      "yaxis": {
                        "backgroundcolor": "#E5ECF6",
                        "gridcolor": "white",
                        "gridwidth": 2,
                        "linecolor": "white",
                        "showbackground": true,
                        "ticks": "",
                        "zerolinecolor": "white"
                      },
                      "zaxis": {
                        "backgroundcolor": "#E5ECF6",
                        "gridcolor": "white",
                        "gridwidth": 2,
                        "linecolor": "white",
                        "showbackground": true,
                        "ticks": "",
                        "zerolinecolor": "white"
                      }
                    },
                    "shapedefaults": {
                      "line": {
                        "color": "#2a3f5f"
                      }
                    },
                    "ternary": {
                      "aaxis": {
                        "gridcolor": "white",
                        "linecolor": "white",
                        "ticks": ""
                      },
                      "baxis": {
                        "gridcolor": "white",
                        "linecolor": "white",
                        "ticks": ""
                      },
                      "bgcolor": "#E5ECF6",
                      "caxis": {
                        "gridcolor": "white",
                        "linecolor": "white",
                        "ticks": ""
                      }
                    },
                    "title": {
                      "x": 0.05
                    },
                    "xaxis": {
                      "automargin": true,
                      "gridcolor": "white",
                      "linecolor": "white",
                      "ticks": "",
                      "title": {
                        "standoff": 15
                      },
                      "zerolinecolor": "white",
                      "zerolinewidth": 2
                    },
                    "yaxis": {
                      "automargin": true,
                      "gridcolor": "white",
                      "linecolor": "white",
                      "ticks": "",
                      "title": {
                        "standoff": 15
                      },
                      "zerolinecolor": "white",
                      "zerolinewidth": 2
                    }
                  }
                },
                "xaxis": {
                  "anchor": "y",
                  "domain": [
                    0,
                    1
                  ],
                  "title": {
                    "text": "variable"
                  }
                },
                "yaxis": {
                  "anchor": "x",
                  "domain": [
                    0,
                    1
                  ],
                  "title": {
                    "text": "value"
                  }
                }
              }
            }
          },
          "metadata": {},
          "output_type": "display_data"
        }
      ],
      "source": [
        "px.box(dados.preco)"
      ]
    },
    {
      "attachments": {},
      "cell_type": "markdown",
      "metadata": {},
      "source": [
        "## Salvar base de dados tratadas"
      ]
    },
    {
      "cell_type": "code",
      "execution_count": 365,
      "metadata": {},
      "outputs": [],
      "source": [
        "dados.to_csv(\"../1_bases_tratadas/base_tratada.csv\", index=True)"
      ]
    },
    {
      "attachments": {},
      "cell_type": "markdown",
      "metadata": {},
      "source": [
        "# AC5 - Salvando dados no Banco de dados SQLite3"
      ]
    },
    {
      "attachments": {},
      "cell_type": "markdown",
      "metadata": {},
      "source": [
        "## Criando database a partir de dataframe tratado"
      ]
    },
    {
      "cell_type": "code",
      "execution_count": 366,
      "metadata": {},
      "outputs": [],
      "source": [
        "import sqlalchemy as db\n",
        "from sqlalchemy import create_engine, ForeignKey\n",
        "from sqlalchemy import Column, Date, Integer, String\n",
        "from sqlalchemy.ext.declarative import declarative_base\n"
      ]
    },
    {
      "cell_type": "code",
      "execution_count": 367,
      "metadata": {},
      "outputs": [],
      "source": [
        "engine = create_engine('sqlite:///nuuvem.db', echo=True)"
      ]
    },
    {
      "cell_type": "code",
      "execution_count": 368,
      "metadata": {},
      "outputs": [],
      "source": [
        "conn = engine.connect()"
      ]
    },
    {
      "cell_type": "code",
      "execution_count": 369,
      "metadata": {},
      "outputs": [],
      "source": [
        "metadata = db.MetaData()"
      ]
    },
    {
      "cell_type": "code",
      "execution_count": 370,
      "metadata": {},
      "outputs": [
        {
          "data": {
            "text/html": [
              "<div>\n",
              "<style scoped>\n",
              "    .dataframe tbody tr th:only-of-type {\n",
              "        vertical-align: middle;\n",
              "    }\n",
              "\n",
              "    .dataframe tbody tr th {\n",
              "        vertical-align: top;\n",
              "    }\n",
              "\n",
              "    .dataframe thead th {\n",
              "        text-align: right;\n",
              "    }\n",
              "</style>\n",
              "<table border=\"1\" class=\"dataframe\">\n",
              "  <thead>\n",
              "    <tr style=\"text-align: right;\">\n",
              "      <th></th>\n",
              "      <th>nome</th>\n",
              "      <th>porcentagem_desconto</th>\n",
              "      <th>preco</th>\n",
              "      <th>tipo</th>\n",
              "    </tr>\n",
              "  </thead>\n",
              "  <tbody>\n",
              "    <tr>\n",
              "      <th>0</th>\n",
              "      <td>devil may cry 5 + vergil</td>\n",
              "      <td>67</td>\n",
              "      <td>29.69</td>\n",
              "      <td>padrao</td>\n",
              "    </tr>\n",
              "    <tr>\n",
              "      <th>1</th>\n",
              "      <td>batman arkham origins  season pass</td>\n",
              "      <td>85</td>\n",
              "      <td>5.54</td>\n",
              "      <td>dlc</td>\n",
              "    </tr>\n",
              "    <tr>\n",
              "      <th>2</th>\n",
              "      <td>street fighter 6  deluxe edition</td>\n",
              "      <td>12</td>\n",
              "      <td>318.55</td>\n",
              "      <td>prevenda</td>\n",
              "    </tr>\n",
              "    <tr>\n",
              "      <th>3</th>\n",
              "      <td>mortal kombat 11 ultimate</td>\n",
              "      <td>80</td>\n",
              "      <td>55.99</td>\n",
              "      <td>padrao</td>\n",
              "    </tr>\n",
              "    <tr>\n",
              "      <th>4</th>\n",
              "      <td>xbox  cartao presente digital 20 reais</td>\n",
              "      <td>0</td>\n",
              "      <td>20.00</td>\n",
              "      <td>padrao</td>\n",
              "    </tr>\n",
              "    <tr>\n",
              "      <th>...</th>\n",
              "      <td>...</td>\n",
              "      <td>...</td>\n",
              "      <td>...</td>\n",
              "      <td>...</td>\n",
              "    </tr>\n",
              "    <tr>\n",
              "      <th>594</th>\n",
              "      <td>children of morta ancient spirits</td>\n",
              "      <td>0</td>\n",
              "      <td>10.89</td>\n",
              "      <td>dlc</td>\n",
              "    </tr>\n",
              "    <tr>\n",
              "      <th>595</th>\n",
              "      <td>conan exiles  architects of argos pack</td>\n",
              "      <td>25</td>\n",
              "      <td>18.74</td>\n",
              "      <td>dlc</td>\n",
              "    </tr>\n",
              "    <tr>\n",
              "      <th>596</th>\n",
              "      <td>destiny 2 alem da luz</td>\n",
              "      <td>60</td>\n",
              "      <td>35.99</td>\n",
              "      <td>dlc</td>\n",
              "    </tr>\n",
              "    <tr>\n",
              "      <th>597</th>\n",
              "      <td>crypt of the necrodancer amplified</td>\n",
              "      <td>0</td>\n",
              "      <td>13.99</td>\n",
              "      <td>dlc</td>\n",
              "    </tr>\n",
              "    <tr>\n",
              "      <th>598</th>\n",
              "      <td>uno  flip theme</td>\n",
              "      <td>40</td>\n",
              "      <td>8.99</td>\n",
              "      <td>dlc</td>\n",
              "    </tr>\n",
              "  </tbody>\n",
              "</table>\n",
              "<p>599 rows × 4 columns</p>\n",
              "</div>"
            ],
            "text/plain": [
              "                                       nome porcentagem_desconto   preco   \n",
              "0                  devil may cry 5 + vergil                   67   29.69  \\\n",
              "1        batman arkham origins  season pass                   85    5.54   \n",
              "2          street fighter 6  deluxe edition                   12  318.55   \n",
              "3                 mortal kombat 11 ultimate                   80   55.99   \n",
              "4    xbox  cartao presente digital 20 reais                    0   20.00   \n",
              "..                                      ...                  ...     ...   \n",
              "594       children of morta ancient spirits                    0   10.89   \n",
              "595  conan exiles  architects of argos pack                   25   18.74   \n",
              "596                   destiny 2 alem da luz                   60   35.99   \n",
              "597      crypt of the necrodancer amplified                    0   13.99   \n",
              "598                         uno  flip theme                   40    8.99   \n",
              "\n",
              "         tipo  \n",
              "0      padrao  \n",
              "1         dlc  \n",
              "2    prevenda  \n",
              "3      padrao  \n",
              "4      padrao  \n",
              "..        ...  \n",
              "594       dlc  \n",
              "595       dlc  \n",
              "596       dlc  \n",
              "597       dlc  \n",
              "598       dlc  \n",
              "\n",
              "[599 rows x 4 columns]"
            ]
          },
          "execution_count": 370,
          "metadata": {},
          "output_type": "execute_result"
        }
      ],
      "source": [
        "dados"
      ]
    },
    {
      "cell_type": "code",
      "execution_count": 371,
      "metadata": {},
      "outputs": [
        {
          "name": "stdout",
          "output_type": "stream",
          "text": [
            "2023-05-25 23:11:27,645 INFO sqlalchemy.engine.Engine BEGIN (implicit)\n",
            "2023-05-25 23:11:27,647 INFO sqlalchemy.engine.Engine PRAGMA main.table_info(\"jogos_nuuvem\")\n",
            "2023-05-25 23:11:27,647 INFO sqlalchemy.engine.Engine [raw sql] ()\n",
            "2023-05-25 23:11:27,648 INFO sqlalchemy.engine.Engine PRAGMA main.table_info(\"jogos_nuuvem\")\n",
            "2023-05-25 23:11:27,648 INFO sqlalchemy.engine.Engine [raw sql] ()\n",
            "2023-05-25 23:11:27,649 INFO sqlalchemy.engine.Engine SELECT name FROM sqlite_master WHERE type='table' ORDER BY name\n",
            "2023-05-25 23:11:27,649 INFO sqlalchemy.engine.Engine [raw sql] ()\n",
            "2023-05-25 23:11:27,649 INFO sqlalchemy.engine.Engine PRAGMA main.table_xinfo(\"jogos_nuuvem\")\n",
            "2023-05-25 23:11:27,650 INFO sqlalchemy.engine.Engine [raw sql] ()\n",
            "2023-05-25 23:11:27,650 INFO sqlalchemy.engine.Engine SELECT sql FROM  (SELECT * FROM sqlite_master UNION ALL   SELECT * FROM sqlite_temp_master) WHERE name = ? AND type = 'table'\n",
            "2023-05-25 23:11:27,650 INFO sqlalchemy.engine.Engine [raw sql] ('jogos_nuuvem',)\n",
            "2023-05-25 23:11:27,651 INFO sqlalchemy.engine.Engine PRAGMA main.foreign_key_list(\"jogos_nuuvem\")\n",
            "2023-05-25 23:11:27,651 INFO sqlalchemy.engine.Engine [raw sql] ()\n",
            "2023-05-25 23:11:27,651 INFO sqlalchemy.engine.Engine PRAGMA temp.foreign_key_list(\"jogos_nuuvem\")\n",
            "2023-05-25 23:11:27,651 INFO sqlalchemy.engine.Engine [raw sql] ()\n",
            "2023-05-25 23:11:27,651 INFO sqlalchemy.engine.Engine SELECT sql FROM  (SELECT * FROM sqlite_master UNION ALL   SELECT * FROM sqlite_temp_master) WHERE name = ? AND type = 'table'\n",
            "2023-05-25 23:11:27,652 INFO sqlalchemy.engine.Engine [raw sql] ('jogos_nuuvem',)\n",
            "2023-05-25 23:11:27,652 INFO sqlalchemy.engine.Engine PRAGMA main.index_list(\"jogos_nuuvem\")\n",
            "2023-05-25 23:11:27,652 INFO sqlalchemy.engine.Engine [raw sql] ()\n",
            "2023-05-25 23:11:27,652 INFO sqlalchemy.engine.Engine PRAGMA temp.index_list(\"jogos_nuuvem\")\n",
            "2023-05-25 23:11:27,652 INFO sqlalchemy.engine.Engine [raw sql] ()\n",
            "2023-05-25 23:11:27,653 INFO sqlalchemy.engine.Engine PRAGMA main.index_list(\"jogos_nuuvem\")\n",
            "2023-05-25 23:11:27,653 INFO sqlalchemy.engine.Engine [raw sql] ()\n",
            "2023-05-25 23:11:27,653 INFO sqlalchemy.engine.Engine PRAGMA temp.index_list(\"jogos_nuuvem\")\n",
            "2023-05-25 23:11:27,653 INFO sqlalchemy.engine.Engine [raw sql] ()\n",
            "2023-05-25 23:11:27,653 INFO sqlalchemy.engine.Engine SELECT sql FROM  (SELECT * FROM sqlite_master UNION ALL   SELECT * FROM sqlite_temp_master) WHERE name = ? AND type = 'table'\n",
            "2023-05-25 23:11:27,654 INFO sqlalchemy.engine.Engine [raw sql] ('jogos_nuuvem',)\n",
            "2023-05-25 23:11:27,655 INFO sqlalchemy.engine.Engine \n",
            "DROP TABLE jogos_nuuvem\n",
            "2023-05-25 23:11:27,656 INFO sqlalchemy.engine.Engine [no key 0.00058s] ()\n",
            "2023-05-25 23:11:27,658 INFO sqlalchemy.engine.Engine \n",
            "CREATE TABLE jogos_nuuvem (\n",
            "\tnome TEXT, \n",
            "\tporcentagem_desconto TEXT, \n",
            "\tpreco FLOAT, \n",
            "\ttipo TEXT\n",
            ")\n",
            "\n",
            "\n",
            "2023-05-25 23:11:27,659 INFO sqlalchemy.engine.Engine [no key 0.00122s] ()\n",
            "2023-05-25 23:11:27,662 INFO sqlalchemy.engine.Engine INSERT INTO jogos_nuuvem (nome, porcentagem_desconto, preco, tipo) VALUES (?, ?, ?, ?)\n",
            "2023-05-25 23:11:27,662 INFO sqlalchemy.engine.Engine [generated in 0.00108s] (('devil may cry 5 + vergil', '67', 29.69, 'padrao'), ('batman arkham origins  season pass', '85', 5.54, 'dlc'), ('street fighter 6  deluxe edition', '12', 318.55, 'prevenda'), ('mortal kombat 11 ultimate', '80', 55.99, 'padrao'), ('xbox  cartao presente digital 20 reais', '0', 20.0, 'padrao'), ('back 4 blood', '85', 41.99, 'padrao'), ('bully scholarship edition', '0', 39.99, 'padrao'), ('tom clancys the division 2  warlords of new york expansion', '85', 13.49, 'dlc')  ... displaying 10 of 599 total bound parameter sets ...  ('crypt of the necrodancer amplified', '0', 13.99, 'dlc'), ('uno  flip theme', '40', 8.99, 'dlc'))\n",
            "2023-05-25 23:11:27,665 INFO sqlalchemy.engine.Engine COMMIT\n"
          ]
        },
        {
          "data": {
            "text/plain": [
              "599"
            ]
          },
          "execution_count": 371,
          "metadata": {},
          "output_type": "execute_result"
        }
      ],
      "source": [
        "dados.to_sql(con=engine, name='jogos_nuuvem', if_exists='replace', index=False)"
      ]
    },
    {
      "attachments": {},
      "cell_type": "markdown",
      "metadata": {},
      "source": [
        "## Realizando select na base criada"
      ]
    },
    {
      "cell_type": "code",
      "execution_count": 372,
      "metadata": {},
      "outputs": [
        {
          "name": "stdout",
          "output_type": "stream",
          "text": [
            "2023-05-25 23:11:27,701 INFO sqlalchemy.engine.Engine SELECT * FROM jogos_nuuvem\n",
            "2023-05-25 23:11:27,702 INFO sqlalchemy.engine.Engine [raw sql] ()\n",
            "[('devil may cry 5 + vergil', '67', 29.69, 'padrao'), ('batman arkham origins  season pass', '85', 5.54, 'dlc'), ('street fighter 6  deluxe edition', '12', 318.55, 'prevenda'), ('mortal kombat 11 ultimate', '80', 55.99, 'padrao'), ('xbox  cartao presente digital 20 reais', '0', 20.0, 'padrao'), ('back 4 blood', '85', 41.99, 'padrao'), ('bully scholarship edition', '0', 39.99, 'padrao'), ('tom clancys the division 2  warlords of new york expansion', '85', 13.49, 'dlc'), ('mortal kombat 1  premium edition', '14', 386.9, 'prevenda'), ('xbox  cartao presente digital 70 reais', '0', 70.0, 'padrao'), ('lego batman 3 beyond gotham  premium edition', '94', 8.0, 'padrao'), ('euro truck simulator', '0', 10.49, 'padrao'), ('devil may cry hd collection', '67', 23.09, 'padrao'), ('castlevania lords of shadow 2  revelations', '0', 15.99, 'dlc'), ('tom clancys the division 2  warlords of new york edition', '85', 26.99, 'padrao'), ('the evil within 2', '80', 31.0, 'padrao'), ('batman arkham knight  premium edition', '90', 17.99, 'padrao'), ('rain world', '0', 73.99, 'padrao'), ('devil may cry 4 ediçao especial', '70', 14.99, 'padrao'), ('middleearth shadow of war  the blade of galadriel story expansion', '82', 8.09, 'dlc'), ('dragons dogma dark arisen', '85', 10.79, 'padrao'), ('street fighter 6', '12', 219.11, 'prevenda'), ('resident evil 2  biohazard re2  deluxe edition', '75', 27.49, 'padrao'), ('f.e.a.r. 3', '94', 4.5, 'padrao'), ('resident evil 7 biohazard gold edition', '74', 22.64, 'padrao'), ('mortal kombat x', '90', 8.99, 'padrao'), ('castlevania lords of shadow  ultimate edition', '0', 49.99, 'padrao'), ('mortal kombat 11', '90', 22.99, 'padrao'), ('lego marvel vingadores deluxe edition', '94', 6.5, 'padrao'), ('mortal kombat 11 kombat pack 1', '90', 5.99, 'dlc'), ('lego harry potter years 57', '90', 8.99, 'padrao'), ('lego batman', '94', 4.5, 'padrao'), ('batman arkham knight', '90', 8.99, 'padrao'), ('tom clancys rainbow six  siege  standard edition', '60', 23.99, 'padrao'), ('xbox game pass ultimate  1 mes', '0', 44.99, 'padrao'), ('middleearth shadow of war  expansion pass', '94', 3.5, 'dlc'), ('lego batman 2 dc super heroes', '94', 4.5, 'padrao'), ('blasphemous', '0', 59.9, 'padrao'), ('riot points  gift card digital 50 reais', '0', 50.0, 'padrao'), ('doom ii', '60', 3.59, 'padrao'), ('v rising', '20', 30.39, 'padrao'), ('subnautica below zero', '40', 34.79, 'padrao'), ('heroes of might  magic iii hd edition', '75', 11.24, 'padrao'), ('v rising  draculas relics pack', '20', 16.55, 'dlc'), ('mad max', '94', 4.5, 'padrao'), ('lego harry potter years 1 4', '94', 4.5, 'padrao'), ('sid meiers civilization v the complete edition', '0', 99.99, 'padrao'), ('middleearth shadow of mordor  game of the year edition', '94', 4.5, 'padrao'), ('lego the lord of the rings', '94', 4.5, 'padrao'), ('middleearth shadow of war', '95', 11.49, 'padrao'), ('metal gear solid v ground zeroes', '0', 36.99, 'padrao'), ('batman arkham collection', '90', 27.99, 'padrao'), ('lego marvel super heroes', '94', 4.5, 'padrao'), ('lego marvel super heroes 2 deluxe edition', '94', 8.0, 'padrao'), ('silent hill homecoming', '0', 34.99, 'padrao'), ('mortal kombat xl', '90', 12.99, 'pacote'), ('euro truck simulator 2', '0', 39.99, 'padrao'), ('horizon zero dawn complete edition', '70', 59.9, 'padrao'), ('doom', '75', 15.37, 'padrao'), ('lego dc supervillains', '94', 9.0, 'padrao'), ('sid meiers civilization vi  platinum edition', '0', 161.2, 'padrao'), ('tennis manager 2023', '18', 69.99, 'padrao'), ('dmc devil may cry', '75', 14.99, 'padrao'), ('monster hunter world iceborne', '55', 39.99, 'dlc'), ('euro truck simulator 2  italia', '0', 44.99, 'dlc'), ('mortal kombat x  kombat pack 2', '85', 5.23, 'dlc'), ('mortal kombat x  kombat pack', '85', 3.73, 'dlc'), ('resident evil 6', '75', 21.24, 'padrao'), ('batman arkham city  game of the year edition', '85', 13.49, 'padrao'), ('prince of persia the forgotten sands', '80', 5.99, 'padrao'), ('euro truck simulator 2  vive la france', '0', 44.99, 'dlc'), ('euro truck simulator 2  high power cargo pack', '0', 10.49, 'dlc'), ('valhalla hills', '0', 14.99, 'padrao'), ('naruto shippuden ultimate ninja storm legacy', '75', 54.49, 'padrao'), ('wolfenstein the new order', '75', 12.49, 'padrao'), ('prince of persia', '80', 5.99, 'padrao'), ('euro truck simulator 2  going east!', '0', 24.99, 'dlc'), ('the survivalists  deluxe edition', '0', 74.99, 'padrao'), ('mortal kombat 1', '14', 240.69, 'prevenda'), ('the elder scrolls v skyrim special edition', '75', 37.25, 'padrao'), ('scribblenauts unmasked a dc comics adventures', '90', 3.69, 'padrao'), ('riot points  gift card digital 20 reais', '0', 20.0, 'padrao'), ('lego jurassic world', '90', 8.99, 'padrao'), ('resident evil 3', '75', 32.49, 'padrao'), ('crunchyroll fan  1 mes', '0', 14.99, 'padrao'), ('assassins creed valhalla', '75', 49.99, 'padrao'), ('far cry 4', '80', 17.99, 'padrao'), ('xbox  cartao presente digital 50 reais', '0', 50.0, 'padrao'), ('resident evil 0', '75', 9.99, 'padrao'), ('katana zero', '0', 28.99, 'padrao'), ('riot points  gift card digital 100 reais', '0', 100.0, 'padrao'), ('xbox  cartao presente digital 10 reais', '0', 10.0, 'padrao'), ('minecraft java and bedrock edition', '0', 129.0, 'padrao'), ('the lego ninjago movie video game', '94', 4.5, 'padrao'), ('fallout 4', '67', 19.79, 'padrao'), ('ultra street fighter iv', '87', 7.79, 'padrao'), ('xbox  cartao presente digital 40 reais', '0', 40.0, 'padrao'), ('doom (1993)', '60', 3.59, 'padrao'), ('crunchyroll mega fan  1 mes', '0', 19.99, 'padrao'), ('xbox  cartao presente digital 60 reais', '0', 60.0, 'padrao'), ('elden ring', '11', 220.99, 'padrao'), ('naruto shippuden ultimate ninja storm 4  road to boruto', '77', 28.09, 'padrao'), ('titan souls collectors edition', '0', 59.99, 'padrao'), ('171', '0', 59.99, 'padrao'), ('naruto shippuden ultimate ninja storm 4', '80', 19.4, 'padrao'), ('lego city undercover', '90', 8.99, 'padrao'), ('resident evil revelations', '77', 13.79, 'padrao'), ('lego batman 3 beyond gotham season pass', '90', 2.79, 'dlc'), ('euro truck simulator 2  brazilian paint jobs pack', '0', 2.49, 'dlc'), ('the lego movie  videogame', '94', 4.5, 'padrao'), ('monster hunter world', '50', 34.99, 'padrao'), ('naruto shippuden ultimate ninja storm revolution', '85', 8.39, 'padrao'), ('castlevania lords of shadow 2  relic rune pack', '0', 2.19, 'dlc'), ('castlevania lords of shadow 2  dark dracula costume', '0', 2.19, 'dlc'), ('xbox  cartao presente digital 15 reais', '0', 15.0, 'padrao'), ('prince of persia the sands of time', '80', 5.99, 'padrao'), ('uno', '60', 11.99, 'padrao'), ('prince of persia the two thrones', '80', 5.99, 'padrao'), ('back 4 blood ultimate', '85', 68.99, 'padrao'), ('prince of persia warrior within', '80', 5.99, 'padrao'), ('mortal kombat 11 kombat pack 2', '75', 14.99, 'dlc'), ('castlevania lords of shadow 2  armored dracula costume', '0', 2.19, 'dlc'), ('street fighter 6  ultimate edition', '12', 393.35, 'prevenda'), ('bioshock the collection', '80', 23.8, 'padrao'), ('tekken 7', '85', 19.48, 'padrao'), ('monster hunter world iceborne master edition', '53', 59.99, 'padrao'), ('days gone', '0', 199.9, 'padrao'), ('lego marvels avengers season pass', '95', 1.49, 'dlc'), ('tom clancys ghost recon  wildlands', '80', 29.99, 'padrao'), ('dragon ball z kakarot', '75', 39.97, 'padrao'), ('far cry 3', '70', 17.99, 'padrao'), ('mortal kombat 11  aftermath', '80', 25.99, 'dlc'), ('overcooked! 2', '0', 59.9, 'padrao'), ('assassins creed odyssey', '80', 35.99, 'padrao'), ('decay  the mare', '0', 10.49, 'padrao'), ('devil may cry 3  special edition', '75', 9.99, 'padrao'), ('above snakes', '10', 66.59, 'padrao'), ('injustice gods among us ultimate edition', '80', 17.99, 'padrao'), ('the lego movie 2 videogame', '94', 6.5, 'padrao'), ('the evil within', '75', 12.49, 'padrao'), ('xbox  cartao presente digital 100 reais', '0', 100.0, 'padrao'), ('resident evil 2  biohazard re2', '75', 22.49, 'padrao'), ('lego dc supervillains  deluxe edition', '94', 12.75, 'padrao'), ('f.e.a.r. 2 project origin', '94', 3.5, 'padrao'), ('scribblenauts unlimited', '94', 4.5, 'padrao'), ('castlevania lord of shadows  mirror of fate hd', '0', 27.99, 'padrao'), ('resident evil hd remaster', '75', 9.99, 'padrao'), ('metal gear solid v the definitive experience', '0', 98.99, 'padrao'), ('castlevania lords of shadow 2', '0', 72.99, 'padrao'), ('batman arkham origins', '85', 13.49, 'padrao'), ('lego star wars the force awakens  deluxe edition', '94', 6.5, 'pacote'), ('resident evil 4 (2005)', '75', 9.99, 'padrao'), ('lego star wars the force awakens', '94', 4.5, 'padrao'), ('xbox  cartao presente digital 5 reais', '0', 5.0, 'padrao'), ('xbox  cartao presente digital 200 reais', '0', 200.0, 'padrao'), ('lego batman 3 beyond gotham', '94', 4.5, 'padrao'), ('xbox  cartao presente digital 25 reais', '0', 25.0, 'padrao'), ('tom clancys the division 2', '85', 13.49, 'padrao'), ('lego marvel super heroes 2  season pass', '90', 2.99, 'dlc'), ('batman arkham origins blackgate  deluxe edition', '85', 13.49, 'padrao'), ('v rising  sinister evolution', '0', 32.99, 'dlc'), ('valhalla hills fire mountains dlc', '0', 2.29, 'dlc'), ('metal gear rising  revengeance', '0', 49.99, 'padrao'), ('cold fear', '80', 5.99, 'padrao'), ('euro truck simulator 2  road to the black sea', '0', 44.99, 'dlc'), ('assassins creed valhalla  deluxe edition', '75', 68.74, 'padrao'), ('my hero ones justice 2 deluxe edition', '85', 34.48, 'padrao'), ('monster hunter world iceborne master edition deluxe', '50', 74.99, 'padrao'), ('mega man legacy collection', '60', 11.99, 'padrao'), ('assassins creed  freedom cry (standalone)', '75', 11.24, 'padrao'), ('warhammer 40,000 boltgun', '10', 71.9, 'padrao'), ('f1 manager 2022', '0', 99.99, 'padrao'), ('ducktales remastered', '75', 7.49, 'padrao'), ('mafia trilogy', '60', 111.96, 'padrao'), ('system shock', '25', 148.9, 'prevenda'), ('a lenda do heroi  ediçao definitiva', '0', 29.99, 'padrao'), ('scooby doo!  looney tunes cartoon universe adventure', '94', 4.5, 'padrao'), ('squad', '25', 70.49, 'padrao'), ('valhalla hills sand of the damned', '0', 2.29, 'dlc'), ('dragon ball z kakarot  deluxe edition', '75', 62.47, 'padrao'), ('golf with your friends', '0', 37.99, 'padrao'), ('wolfenstein ii the new colossus', '85', 23.25, 'padrao'), ('overcooked', '0', 38.99, 'padrao'), ('lego dc supervillains season pass', '90', 4.99, 'dlc'), ('batman arkham knight season pass', '85', 10.49, 'dlc'), ('south park the fractured but whole  gold edition', '80', 47.99, 'padrao'), ('the last of us  part i', '10', 223.99, 'padrao'), ('dragon ball xenoverse 2', '85', 32.23, 'padrao'), ('assassins creed rogue', '70', 17.99, 'padrao'), ('assassins creed directors cut edition', '70', 17.99, 'padrao'), ('wartales', '0', 129.99, 'padrao'), ('enter the gungeon', '0', 46.99, 'padrao'), ('lego marvel vingadores', '90', 8.99, 'padrao'), ('wolfenstein 3d', '70', 2.69, 'padrao'), ('far cry primal digital apex edition', '75', 26.24, 'padrao'), ('euro truck simulator 2  beyond the baltic sea', '0', 44.99, 'dlc'), ('worms revolution gold edition', '0', 45.99, 'padrao'), ('doom 3', '60', 15.6, 'padrao'), ('gotham knights', '65', 104.99, 'padrao'), ('fallout 4 season pass', '65', 36.74, 'dlc'), ('resident evil village gold edition', '40', 101.94, 'padrao'), ('assassins creed valhalla  complete edition', '70', 149.99, 'padrao'), ('street fighter  30th anniversary', '67', 29.69, 'padrao'), ('marvel vs. capcom infinite deluxe', '80', 25.99, 'padrao'), ('wolfenstein ii the new colossus  digital deluxe edition', '85', 37.35, 'padrao'), ('wolfenstein youngblood', '70', 17.99, 'padrao'), ('super bomberman r', '0', 150.0, 'padrao'), ('rayman legends', '80', 17.99, 'padrao'), ('assassins creed brotherhood', '70', 17.99, 'padrao'), ('rage', '60', 11.99, 'padrao'), ('naruto storm 4 road to boruto expansion', '50', 18.49, 'dlc'), ('enigma do medo  bundle do detetive', '10', 85.0, 'prevenda'), ('doom eternal  deluxe edition  steam', '67', 82.17, 'padrao'), ('far cry new dawn  ultimate bundle', '85', 52.49, 'padrao'), ('american truck simulator enchanted edition', '0', 115.26, 'padrao'), ('ghostwire tokyo', '60', 83.6, 'padrao'), ('monster hunter rise', '55', 62.95, 'padrao'), ('the survivalists', '0', 59.9, 'padrao'), ('gato roboto', '0', 26.49, 'padrao'), ('mega man 11', '67', 23.09, 'padrao'), ('far cry', '70', 8.99, 'padrao'), ('hogwarts legacy', '10', 224.99, 'padrao'), ('doom eternal  steam', '67', 49.17, 'padrao'), ('dead cells', '40', 28.49, 'padrao'), ('prey', '75', 22.49, 'padrao'), ('tekken 7  definitive edition', '85', 79.43, 'padrao'), ('one piece pirate warriors 4  deluxe edition', '85', 59.23, 'padrao'), ('one piece world seeker', '90', 24.99, 'padrao'), ('frostpunk', '0', 88.99, 'padrao'), ('injustice 2  standard edition', '90', 22.99, 'padrao'), ('far cry 5', '80', 35.99, 'padrao'), ('men of war', '0', 16.99, 'padrao'), ('the elder scrolls v skyrim anniversary upgrade', '50', 39.5, 'dlc'), ('gotham knights  deluxe edition', '65', 139.99, 'padrao'), ('injustice 2  legendary edition', '85', 41.99, 'padrao'), ('assassins creed rogue deluxe edition', '70', 26.99, 'padrao'), ('naruto shippuden ultimate ninja storm 3 full burst', '75', 19.97, 'padrao'), ('crypt of the necrodancer', '0', 27.99, 'padrao'), ('my hero ones justice 2', '85', 23.98, 'padrao'), ('euro truck simulator 2  heavy cargo pack', '0', 12.49, 'dlc'), ('euro truck simulator 2  scandinavia', '0', 44.99, 'dlc'), ('dishonored definitive edition', '75', 14.99, 'padrao'), ('enigma do medo', '9', 49.99, 'prevenda'), ('euro truck simulator 2  special transport', '0', 12.19, 'dlc'), ('lego marvel super heroes 2', '90', 8.99, 'padrao'), ('south park the fractured but whole', '80', 29.99, 'padrao'), ('hotline miami 2 wrong number', '0', 46.99, 'padrao'), ('resident evil village', '50', 69.95, 'padrao'), ('monopoly plus', '60', 17.99, 'padrao'), ('the escapists 2', '0', 59.99, 'padrao'), ('dishonored', '75', 7.49, 'padrao'), ('enigma do medo  bundle do medo', '12', 105.0, 'prevenda'), ('tom clancys ghost recon breakpoint', '80', 35.8, 'padrao'), ('dragon ball fighterz', '85', 22.48, 'padrao'), ('lego star wars the force awakens  season pass', '94', 2.0, 'dlc'), ('batman arkham asylum goty', '85', 13.49, 'padrao'), ('ultimate marvel vs. capcom 3', '70', 16.49, 'padrao'), ('dishonored 2', '80', 17.99, 'padrao'), ('assassins creed syndicate', '75', 22.49, 'padrao'), ('south park the stick of truth', '75', 22.49, 'padrao'), ('euro truck simulator 2  cabin accessories', '0', 11.49, 'dlc'), ('dragon ball fighterz  fighterz edition', '85', 35.98, 'padrao'), ('accel world vs. sword art online deluxe edition', '80', 18.19, 'padrao'), ('one piece pirate warriors 3  gold edition', '85', 15.59, 'padrao'), ('middleearth shadow of mordor  goty edition upgrade', '75', 4.99, 'dlc'), ('the elder scrolls v skyrim anniversary edition', '60', 71.6, 'padrao'), ('watch_dogs 2 deluxe edition', '85', 26.99, 'padrao'), ('resident evil revelations 2 deluxe edition', '60', 29.99, 'padrao'), ('one piece world seeker  deluxe edition', '90', 34.99, 'padrao'), ('assassins creed origins', '85', 26.99, 'padrao'), ('assassins creed odyssey  ultimate edition', '80', 65.99, 'padrao'), ('mega man x legacy collection 2', '60', 15.99, 'padrao'), ('witch it', '0', 59.99, 'padrao'), ('hatred', '0', 17.99, 'padrao'), ('metal gear survive', '0', 79.99, 'padrao'), ('silence', '0', 37.99, 'padrao'), ('euro truck simulator 2  wheel tuning pack', '0', 6.49, 'dlc'), ('the evil within season pass', '60', 11.99, 'dlc'), ('xbox game pass ultimate  3 meses', '0', 134.99, 'padrao'), ('rage the scorchers', '60', 3.59, 'dlc'), ('hogwarts legacy  deluxe edition', '10', 269.98, 'padrao'), ('watch dogs legion  ultimate edition', '80', 79.99, 'padrao'), ('watch dogs legion  deluxe edition', '85', 41.24, 'padrao'), ('planet zoo  deluxe edition', '0', 108.99, 'padrao'), ('assassins creed revelations gold edition', '67', 29.69, 'padrao'), ('aspire inas tale', '80', 5.79, 'padrao'), ('townscaper', '30', 8.67, 'padrao'), ('the suicide of rachel foster', '0', 49.99, 'padrao'), ('digimon story cyber sleuth complete edition', '75', 32.49, 'padrao'), ('post scriptum', '75', 14.72, 'padrao'), ('marvel vs. capcom infinite', '80', 17.99, 'padrao'), ('the escapists + the escapists the walking dead deluxe bundle', '0', 45.99, 'padrao'), ('fallout a post nuclear role playing game', '75', 4.99, 'padrao'), ('fallout tactics brotherhood of steel', '75', 4.99, 'padrao'), ('quake iii arena + team arena', '60', 13.19, 'padrao'), ('pacote black legends', '85', 71.99, 'pacote'), ('alien breed trilogy', '0', 39.99, 'pacote'), ('destiny 2 lightfall + annual pass', '33', 200.99, 'dlc'), ('destiny 2 bungie 30th anniversary pack', '50', 37.49, 'dlc'), ('one punch man a hero nobody knows  deluxe edition', '90', 22.99, 'padrao'), ('contra anniversary collection', '0', 79.0, 'padrao'), ('assassins creed origins  gold edition', '80', 59.99, 'padrao'), ('one piece burning blood  gold edition', '85', 32.98, 'padrao'), ('tom clancys splinter cell conviction deluxe edition', '75', 14.99, 'padrao'), ('miasma chronicles', '13', 129.99, 'padrao'), ('riders republic', '75', 62.47, 'padrao'), ('golf club wasteland', '80', 4.13, 'padrao'), ('dont starve together', '0', 27.99, 'padrao'), ('horizon chase turbo', '0', 49.99, 'padrao'), ('super dragon ball heroes world mission', '90', 19.99, 'padrao'), ('metal gear solid v the phantom pain', '0', 129.99, 'padrao'), ('necrovision', '0', 16.99, 'padrao'), ('dead rising 2', '70', 10.49, 'padrao'), ('assassins creed valhalla  season pass', '60', 63.99, 'dlc'), ('euro truck simulator 2  mighty griffin tuning pack', '0', 9.99, 'dlc'), ('euro truck simulator 2  schwarzmüller trailer pack', '0', 6.29, 'dlc'), ('euro truck simulator 2  prehistoric paint jobs pack', '0', 4.49, 'dlc'), ('immortals fenyx rising   gold edition', '80', 69.99, 'padrao'), ('far cry 5 – gold edition', '80', 51.99, 'padrao'), ('kingdom two crowns norse lands edition', '60', 18.89, 'padrao'), ('worms rumble  deluxe edition', '0', 54.49, 'padrao'), ('castlevania anniversary collection', '0', 119.0, 'padrao'), ('sword art online hollow realization deluxe edition', '80', 18.19, 'padrao'), ('mortal kombat x  premium edition', '85', 25.34, 'padrao'), ('worms ultimate mayhem deluxe edition', '0', 31.99, 'padrao'), ('police stories', '70', 17.99, 'padrao'), ('stranded alien dawn', '15', 86.49, 'padrao'), ('far cry 6', '75', 62.49, 'padrao'), ('outer wilds', '40', 35.99, 'padrao'), ('scott pilgrim vs. the world the game  complete edition', '67', 19.79, 'padrao'), ('tokyo ghoulre [call to exist]', '90', 15.99, 'padrao'), ('far cry primal', '75', 22.49, 'padrao'), ('watch dogs', '75', 22.49, 'padrao'), ('tom clancys rainbow six vegas', '75', 7.49, 'padrao'), ('tom clancys splinter cell blacklist', '75', 22.49, 'padrao'), ('tom clancys rainbow six vegas 2', '75', 7.49, 'padrao'), ('monster hunter rise sunbreak', '32', 114.68, 'dlc'), ('euro truck simulator 2  viking legends', '0', 4.49, 'dlc'), ('ea  gift card digital r$125', '0', 125.0, 'padrao'), ('crunchyroll mega fan  12 meses', '0', 199.99, 'padrao'), ('devil may cry 5 deluxe + vergil', '50', 59.99, 'padrao'), ('tom clancys ghost recon breakpoint  deluxe edition', '80', 41.99, 'padrao'), ('tom clancys ghost recon breakpoint  ultimate edition', '80', 71.99, 'padrao'), ('far cry new dawn  deluxe edition', '80', 29.99, 'padrao'), ('naruto to boruto  shinobi striker deluxe edition', '90', 23.99, 'padrao'), ('f.e.a.r.  ultimate shooter edition', '0', 16.99, 'padrao'), ('wolcen lords of mayhem', '0', 75.49, 'padrao'), ('shift happens', '0', 46.99, 'padrao'), ('conan exiles', '50', 49.74, 'padrao'), ('candle', '0', 18.99, 'padrao'), ('mother russia bleeds', '0', 46.99, 'padrao'), ('watch_dogs 2', '85', 22.49, 'padrao'), ('fallout 2 a post nuclear role playing game', '75', 4.99, 'padrao'), ('dragon ball xenoverse', '85', 11.99, 'padrao'), ('worms revolution', '0', 27.99, 'padrao'), ('resident evil village  winters expansion', '25', 50.17, 'dlc'), ('american truck simulator  special transport', '0', 12.19, 'dlc'), ('far cry 6  gold edition', '75', 87.49, 'padrao'), ('destiny 2 legacy collection', '50', 74.99, 'padrao'), ('pilgrims', '0', 13.99, 'padrao'), ('sword art online re hollow fragment', '75', 9.49, 'padrao'), ('for honor starter edition', '60', 17.99, 'padrao'), ('the crew 2', '80', 29.99, 'padrao'), ('remember me', '80', 9.99, 'padrao'), ('destiny 2 lightfall', '40', 89.99, 'dlc'), ('euro truck simulator 2  pirate paint jobs pack', '0', 4.29, 'dlc'), ('tom clancys ghost recon wildlands ultimate edition', '80', 65.99, 'padrao'), ('watch_dogs 2 gold edition', '85', 38.99, 'padrao'), ('lego star wars™ the skywalker saga', '60', 79.99, 'padrao'), ('watch dogs legion', '85', 37.49, 'padrao'), ('greak memories of azur', '0', 59.99, 'padrao'), ('naruto to boruto shinobi striker', '90', 13.99, 'padrao'), ('tom clancys the division 1  ediçao standard', '85', 17.99, 'padrao'), ('scania truck driving simulator', '0', 19.99, 'padrao'), ('rocket knight', '0', 16.99, 'padrao'), ('max payne 2 the fall of max payne', '0', 14.99, 'padrao'), ('naruto shippuden ultimate ninja storm trilogy', '75', 40.14, 'pacote'), ('injustice 2  ultimate pack', '90', 19.99, 'dlc'), ('ea  gift card digital r$299', '0', 299.0, 'padrao'), ('worms reloaded  game of the year edition', '0', 45.99, 'padrao'), ('gauntlet slayer edition', '80', 17.99, 'padrao'), ('batman  the telltale series', '50', 14.49, 'padrao'), ('florence', '66', 5.94, 'padrao'), ('world war z aftermath', '0', 75.49, 'padrao'), ('contra rogue corps', '0', 159.9, 'padrao'), ('devolver bootleg', '0', 10.89, 'padrao'), ('io', '90', 1.59, 'padrao'), ('steep', '85', 13.49, 'padrao'), ('worms w.m.d', '0', 79.9, 'padrao'), ('star wars knights of the old republic ii  the sith lords', '0', 19.99, 'padrao'), ('skyhill', '0', 26.69, 'padrao'), ('star wars knights of the old republic', '0', 20.69, 'padrao'), ('quake iv', '67', 10.88, 'padrao'), ('watch dogs  complete edition', '75', 37.49, 'pacote'), ('horizon chase turbo  summer vibes', '0', 5.49, 'dlc'), ('conan exiles isle of siptah', '20', 39.99, 'dlc'), ('assassins creed origins  season pass', '70', 35.99, 'dlc'), ('american truck simulator  wheel tuning pack', '0', 6.49, 'dlc'), ('euro truck simulator 2  force of nature paint jobs pack', '0', 4.49, 'dlc'), ('okami hd', '50', 19.99, 'padrao'), ('planet alpha', '0', 37.99, 'padrao'), ('holy potatoes! what the hell?!', '0', 10.99, 'padrao'), ('hard west', '90', 3.69, 'padrao'), ('dead rising 3  apocalypse edition', '70', 25.49, 'padrao'), ('i am alive', '75', 11.24, 'padrao'), ('assassins creed revelations', '70', 17.99, 'padrao'), ('dragon ball xenoverse  bundle', '85', 18.89, 'pacote'), ('blackguards franchise bundle', '0', 28.99, 'pacote'), ('dragon ball fighterz  fighterz pass 3', '50', 39.95, 'dlc'), ('doom eternal year one pass', '60', 47.6, 'dlc'), ('destiny 2 pacote de renegados', '60', 15.19, 'dlc'), ('assassins creed odyssey  season pass', '60', 39.99, 'dlc'), ('american truck simulator  new mexico', '0', 31.99, 'dlc'), ('american truck simulator  heavy cargo pack', '0', 12.19, 'dlc'), ('cities skylines  snowfall', '75', 10.49, 'dlc'), ('cities skylines  after dark', '75', 11.74, 'dlc'), ('euro truck simulator 2  flip paint designs', '0', 4.49, 'dlc'), ('euro truck simulator 2 halloween paint jobs pack', '0', 4.49, 'dlc'), ('the last of us  part i  digital deluxe edition', '10', 268.9, 'padrao'), ('destiny 2 the witch queen', '50', 44.99, 'dlc'), ('elypse', '0', 46.99, 'padrao'), ('ea  gift card digital r$55', '0', 55.0, 'padrao'), ('riders republic  deluxe edition', '75', 79.99, 'padrao'), ('riders republic  ultimate edition', '75', 99.99, 'padrao'), ('lego star wars™ the skywalker saga deluxe edition', '60', 99.99, 'padrao'), ('castlevania advance collection', '0', 99.0, 'padrao'), ('jurassic world evolution 2  deluxe edition', '0', 127.99, 'padrao'), ('world war z aftermath  deluxe edition', '0', 94.49, 'padrao'), ('sid meiers civilization vi anthology', '0', 230.99, 'padrao'), ('holy potatoes! a weapon shop?!  dlc bundle', '0', 23.99, 'padrao'), ('assassins creed syndicate  gold edition', '75', 44.99, 'padrao'), ('far cry 4  gold edition', '75', 44.99, 'padrao'), ('transport fever 2', '50', 53.99, 'padrao'), ('returnal', '14', 214.91, 'padrao'), ('broken sword 2  the smoking mirror remastered', '80', 1.99, 'padrao'), ('broken sword 3  the sleeping dragon', '80', 1.99, 'padrao'), ('quake', '60', 11.99, 'padrao'), ('children of morta', '0', 47.49, 'padrao'), ('phoenix wright ace attorney trilogy', '55', 31.49, 'padrao'), ('ea  gift card digital r$79', '0', 79.0, 'padrao'), ('far cry 6  game of the year edition', '70', 119.99, 'padrao'), ('ghostwire tokyo deluxe edition', '60', 111.6, 'padrao'), ('monster hunter rise  deluxe edition', '50', 84.12, 'padrao'), ('the crew 2  special edition', '80', 35.99, 'padrao'), ('back 4 blood deluxe', '85', 62.99, 'padrao'), ('going under  deluxe edition', '0', 71.98, 'padrao'), ('serious sam 4 deluxe edition', '0', 93.99, 'padrao'), ('assassins creed odyssey  gold edition', '80', 59.99, 'padrao'), ('broken sword directors cut', '80', 1.69, 'padrao'), ('journey', '50', 19.99, 'padrao'), ('one punch man a hero nobody knows', '90', 15.99, 'padrao'), ('yookalaylee and the impossible lair', '0', 57.99, 'padrao'), ('holy potatoes! a spy story?!', '0', 18.99, 'padrao'), ('dungeon rushers', '90', 2.79, 'padrao'), ('street fighter v', '0', 39.99, 'padrao'), ('one piece pirate warriors 3', '85', 11.99, 'padrao'), ('zombi', '75', 14.99, 'padrao'), ('valiant hearts the great war', '75', 11.24, 'padrao'), ('munin', '0', 10.49, 'padrao'), ('the wild eight', '85', 11.99, 'padrao'), ('age of wonders 4', '0', 165.99, 'padrao'), ('batman  the enemy within  the telltale series', '50', 14.49, 'padrao'), ('immortals fenyx rising', '80', 49.98, 'padrao'), ('broken sword 4  the angel of death', '80', 3.99, 'padrao'), ('one step from eden', '0', 37.99, 'padrao'), ('golf gang', '0', 29.99, 'padrao'), ('what remains of edith finch', '70', 14.99, 'padrao'), ('samorost 2', '0', 10.99, 'padrao'), ('mechwarrior 5 mercenaries', '50', 28.99, 'padrao'), ('narita boy', '0', 74.99, 'padrao'), ('going under', '0', 59.99, 'padrao'), ('rogue heroes ruins of tasos', '0', 59.99, 'padrao'), ('creaks', '0', 44.99, 'padrao'), ('skelattack', '0', 89.9, 'padrao'), ('neon abyss', '0', 59.99, 'padrao'), ('monster train', '75', 11.87, 'padrao'), ('no mans sky', '0', 162.0, 'padrao'), ('black future 88', '80', 7.59, 'padrao'), ('barotrauma', '0', 99.99, 'padrao'), ('cities skylines  deluxe edition', '70', 32.39, 'padrao'), ('the escapists', '0', 47.49, 'padrao'), ('quake ii', '60', 7.19, 'padrao'), ('lost planet 3', '80', 9.19, 'padrao'), ('tom clancys ghost recon breakpoint  year 1 pass', '65', 41.99, 'dlc'), ('children of morta paws and claws', '0', 4.49, 'dlc'), ('golf with your friends  caddy pack', '0', 4.49, 'dlc'), ('planet coaster  magnificent rides collection', '0', 21.99, 'dlc'), ('dead cells the bad seed', '40', 6.53, 'dlc'), ('american truck simulator  washington', '0', 31.99, 'dlc'), ('south park the fractured but whole  season pass', '80', 17.99, 'dlc'), ('for honor year 1 heroes bundle', '70', 26.99, 'dlc'), ('naruto shippuden ultimate ninja storm 4  season pass', '50', 24.95, 'dlc'), ('euro truck simulator 2  christmas paint jobs pack', '0', 4.49, 'dlc'), ('bioshock infinite season pass', '75', 7.49, 'dlc'), ('bioshock infinite columbias finest', '75', 1.99, 'dlc'), ('hifi rush deluxe edition', '15', 122.4, 'padrao'), ('elden ring deluxe edition', '10', 293.69, 'padrao'), ('assassins creed origins  deluxe edition', '80', 41.99, 'padrao'), ('euro truck simulator 2 gold edition', '0', 64.99, 'padrao'), ('pokemon sword expansion pass', '0', 149.0, 'dlc'), ('monster hunter world iceborne  deluxe edition', '50', 54.99, 'dlc'), ('cities skylines  parklife', '75', 11.74, 'dlc'), ('american truck simulator  oregon', '0', 31.99, 'dlc'), ('dragon ball xenoverse 2  super pass', '50', 63.72, 'dlc'), ('fallout 4  contraptions workshop', '60', 5.99, 'dlc'), ('fallout 4  wasteland workshop', '60', 6.32, 'dlc'), ('euro truck simulator 2 ice cold paint jobs pack', '0', 4.49, 'dlc'), ('assassins creed valhalla  ragnarök edition', '70', 110.99, 'padrao'), ('far cry 6  deluxe edition', '75', 78.74, 'padrao'), ('riders republic  gold edition', '75', 87.49, 'padrao'), ('marvels midnight suns  legendary edition  steam', '50', 249.75, 'padrao'), ('watch dogs legion  gold edition', '80', 69.99, 'padrao'), ('the crew 2  new gold edition', '80', 51.99, 'padrao'), ('overcooked! all you can eat', '0', 120.0, 'padrao'), ('ragnarök  pacote de 4.000 rops', '0', 7.9, 'padrao'), ('rollercoaster tycoon 3 complete edition', '0', 37.99, 'padrao'), ('dead island definitive edition', '0', 34.99, 'padrao'), ('armored core vi fires of rubicon', '10', 229.99, 'prevenda'), ('seraphs last stand', '0', 2.07, 'padrao'), ('ark survival evolved', '0', 37.99, 'padrao'), ('dome keeper', '25', 29.99, 'padrao'), ('911 operator', '80', 5.59, 'padrao'), ('potion permit', '0', 49.99, 'padrao'), ('marvels spiderman miles morales', '0', 199.9, 'padrao'), ('dayz', '0', 119.99, 'padrao'), ('donut county', '70', 10.49, 'padrao'), ('warhammer 40,000 chaos gate  daemonhunters', '0', 84.99, 'padrao'), ('beyond the wire', '75', 16.49, 'padrao'), ('atomicrops', '60', 18.79, 'padrao'), ('heave ho', '0', 32.99, 'padrao'), ('kao the kangaroo round 2', '0', 4.49, 'padrao'), ('pax nova', '0', 73.99, 'padrao'), ('bionic commando rearmed', '80', 3.39, 'padrao'), ('planet coaster', '0', 81.99, 'padrao'), ('naruto ultimate ninja storm', '75', 19.97, 'padrao'), ('fallout 4 vr', '75', 49.99, 'padrao'), ('holy potatoes! a weapon shop?!', '0', 18.99, 'padrao'), ('for honor', '75', 22.49, 'padrao'), ('umbrella corps deluxe edition', '75', 13.74, 'padrao'), ('far cry new dawn', '80', 25.99, 'padrao'), ('deadrising 4', '75', 17.49, 'padrao'), ('zone of the enders 2nd runner mars', '0', 149.9, 'padrao'), ('warhammer 40,000 mechanicus  omnissiah edition', '75', 17.25, 'padrao'), ('absolver', '0', 88.99, 'padrao'), ('dishonored death of the outsider', '80', 17.99, 'padrao'), ('batman arkham vr', '85', 13.49, 'padrao'), ('resident evil 7 biohazard', '60', 27.99, 'padrao'), ('umbrella corps', '75', 9.99, 'padrao'), ('worms world party remastered', '0', 27.99, 'padrao'), ('fire!', '0', 19.99, 'padrao'), ('1954 alcatraz', '0', 19.99, 'padrao'), ('child of light', '70', 13.49, 'padrao'), ('rayman origins', '70', 17.99, 'padrao'), ('tom clancys splinter cell', '75', 7.49, 'padrao'), ('grand theft auto v premium online edition', '0', 82.42, 'pacote'), ('dragon ball fighterz  fighterz pass 2', '50', 49.95, 'dlc'), ('dead cells  the queen and the sea', '20', 8.71, 'dlc'), ('dead cells fatal falls', '30', 7.62, 'dlc'), ('conan exiles  debaucheries of derketo pack', '25', 18.74, 'dlc'), ('planet coaster  classic rides collection', '0', 21.99, 'dlc'), ('planet coaster  vintage pack', '0', 21.99, 'dlc'), ('warhammer 40,000 mechanicus  heretek', '50', 9.5, 'dlc'), ('frostpunk  season pass', '0', 78.02, 'dlc'), ('overcooked! 2  season pass', '0', 37.99, 'dlc'), ('overcooked! 2  surf n turf', '0', 12.39, 'dlc'), ('watch_dogs® 2  season pass', '85', 17.99, 'dlc'), ('injustice 2  fighter pack 2', '85', 7.49, 'dlc'), ('the escapists 2  season pass', '0', 19.99, 'dlc'), ('fallout 4  vaulttec workshop', '60', 5.99, 'dlc'), ('the escapists  alcatraz', '0', 4.29, 'dlc'), ('assassins creed syndicate  season pass', '75', 22.49, 'dlc'), ('worms revolution funfair', '0', 10.49, 'dlc'), ('worms revolution mars pack', '0', 10.49, 'dlc'), ('worms revolution medieval tales', '0', 10.49, 'dlc'), ('the evil within  the consequence', '0', 17.99, 'dlc'), ('far cry 4  season pass', '70', 26.99, 'dlc'), ('watch dogs season pass', '75', 14.99, 'dlc'), ('f.e.a.r. 2 reborn', '0', 16.99, 'dlc'), ('armored core vi fires of rubicon  deluxe edition', '10', 269.49, 'prevenda'), ('assassins creed chronicles russia', '70', 8.99, 'padrao'), ('annas quest', '0', 36.99, 'padrao'), ('a new beginning', '0', 16.99, 'padrao'), ('rogue warrior', '60', 7.19, 'padrao'), ('blackguards  deluxe edition', '0', 23.99, 'padrao'), ('cities skylines', '70', 26.69, 'padrao'), ('luftrausers', '0', 16.99, 'padrao'), ('assassins creed chronicles china', '70', 8.99, 'padrao'), ('blackguards 2', '0', 18.99, 'padrao'), ('strider', '70', 7.49, 'padrao'), ('necrovision lost company', '0', 23.5, 'padrao'), ('brothers in arms hells highway', '60', 11.99, 'padrao'), ('tom clancys splinter cell double agent', '75', 7.49, 'padrao'), ('rain world downpour', '0', 46.99, 'dlc'), ('lego star wars™ the skywalker saga character collection', '60', 19.99, 'dlc'), ('children of morta ancient spirits', '0', 10.89, 'dlc'), ('conan exiles  architects of argos pack', '25', 18.74, 'dlc'), ('destiny 2 alem da luz', '60', 35.99, 'dlc'), ('crypt of the necrodancer amplified', '0', 13.99, 'dlc'), ('uno  flip theme', '40', 8.99, 'dlc')]\n"
          ]
        }
      ],
      "source": [
        "query = 'SELECT * FROM jogos_nuuvem'\n",
        "output = conn.execute(query)\n",
        "print(output.fetchall())"
      ]
    },
    {
      "cell_type": "code",
      "execution_count": 373,
      "metadata": {},
      "outputs": [
        {
          "name": "stdout",
          "output_type": "stream",
          "text": [
            "2023-05-25 23:11:30,203 INFO sqlalchemy.engine.Engine PRAGMA main.table_xinfo(\"jogos_nuuvem\")\n",
            "2023-05-25 23:11:30,204 INFO sqlalchemy.engine.Engine [raw sql] ()\n",
            "2023-05-25 23:11:30,206 INFO sqlalchemy.engine.Engine SELECT sql FROM  (SELECT * FROM sqlite_master UNION ALL   SELECT * FROM sqlite_temp_master) WHERE name = ? AND type = 'table'\n",
            "2023-05-25 23:11:30,207 INFO sqlalchemy.engine.Engine [raw sql] ('jogos_nuuvem',)\n",
            "2023-05-25 23:11:30,208 INFO sqlalchemy.engine.Engine PRAGMA main.foreign_key_list(\"jogos_nuuvem\")\n",
            "2023-05-25 23:11:30,209 INFO sqlalchemy.engine.Engine [raw sql] ()\n",
            "2023-05-25 23:11:30,210 INFO sqlalchemy.engine.Engine PRAGMA temp.foreign_key_list(\"jogos_nuuvem\")\n",
            "2023-05-25 23:11:30,211 INFO sqlalchemy.engine.Engine [raw sql] ()\n",
            "2023-05-25 23:11:30,212 INFO sqlalchemy.engine.Engine SELECT sql FROM  (SELECT * FROM sqlite_master UNION ALL   SELECT * FROM sqlite_temp_master) WHERE name = ? AND type = 'table'\n",
            "2023-05-25 23:11:30,212 INFO sqlalchemy.engine.Engine [raw sql] ('jogos_nuuvem',)\n",
            "2023-05-25 23:11:30,213 INFO sqlalchemy.engine.Engine PRAGMA main.index_list(\"jogos_nuuvem\")\n",
            "2023-05-25 23:11:30,213 INFO sqlalchemy.engine.Engine [raw sql] ()\n",
            "2023-05-25 23:11:30,214 INFO sqlalchemy.engine.Engine PRAGMA temp.index_list(\"jogos_nuuvem\")\n",
            "2023-05-25 23:11:30,214 INFO sqlalchemy.engine.Engine [raw sql] ()\n",
            "2023-05-25 23:11:30,215 INFO sqlalchemy.engine.Engine PRAGMA main.index_list(\"jogos_nuuvem\")\n",
            "2023-05-25 23:11:30,216 INFO sqlalchemy.engine.Engine [raw sql] ()\n",
            "2023-05-25 23:11:30,216 INFO sqlalchemy.engine.Engine PRAGMA temp.index_list(\"jogos_nuuvem\")\n",
            "2023-05-25 23:11:30,217 INFO sqlalchemy.engine.Engine [raw sql] ()\n",
            "2023-05-25 23:11:30,217 INFO sqlalchemy.engine.Engine SELECT sql FROM  (SELECT * FROM sqlite_master UNION ALL   SELECT * FROM sqlite_temp_master) WHERE name = ? AND type = 'table'\n",
            "2023-05-25 23:11:30,217 INFO sqlalchemy.engine.Engine [raw sql] ('jogos_nuuvem',)\n",
            "2023-05-25 23:11:30,220 INFO sqlalchemy.engine.Engine SELECT jogos_nuuvem.nome, jogos_nuuvem.porcentagem_desconto, jogos_nuuvem.preco, jogos_nuuvem.tipo \n",
            "FROM jogos_nuuvem\n",
            "2023-05-25 23:11:30,221 INFO sqlalchemy.engine.Engine [generated in 0.00070s] ()\n",
            "[('devil may cry 5 + vergil', '67', 29.69, 'padrao'), ('batman arkham origins  season pass', '85', 5.54, 'dlc'), ('street fighter 6  deluxe edition', '12', 318.55, 'prevenda'), ('mortal kombat 11 ultimate', '80', 55.99, 'padrao'), ('xbox  cartao presente digital 20 reais', '0', 20.0, 'padrao'), ('back 4 blood', '85', 41.99, 'padrao'), ('bully scholarship edition', '0', 39.99, 'padrao'), ('tom clancys the division 2  warlords of new york expansion', '85', 13.49, 'dlc'), ('mortal kombat 1  premium edition', '14', 386.9, 'prevenda'), ('xbox  cartao presente digital 70 reais', '0', 70.0, 'padrao'), ('lego batman 3 beyond gotham  premium edition', '94', 8.0, 'padrao'), ('euro truck simulator', '0', 10.49, 'padrao'), ('devil may cry hd collection', '67', 23.09, 'padrao'), ('castlevania lords of shadow 2  revelations', '0', 15.99, 'dlc'), ('tom clancys the division 2  warlords of new york edition', '85', 26.99, 'padrao'), ('the evil within 2', '80', 31.0, 'padrao'), ('batman arkham knight  premium edition', '90', 17.99, 'padrao'), ('rain world', '0', 73.99, 'padrao'), ('devil may cry 4 ediçao especial', '70', 14.99, 'padrao'), ('middleearth shadow of war  the blade of galadriel story expansion', '82', 8.09, 'dlc'), ('dragons dogma dark arisen', '85', 10.79, 'padrao'), ('street fighter 6', '12', 219.11, 'prevenda'), ('resident evil 2  biohazard re2  deluxe edition', '75', 27.49, 'padrao'), ('f.e.a.r. 3', '94', 4.5, 'padrao'), ('resident evil 7 biohazard gold edition', '74', 22.64, 'padrao'), ('mortal kombat x', '90', 8.99, 'padrao'), ('castlevania lords of shadow  ultimate edition', '0', 49.99, 'padrao'), ('mortal kombat 11', '90', 22.99, 'padrao'), ('lego marvel vingadores deluxe edition', '94', 6.5, 'padrao'), ('mortal kombat 11 kombat pack 1', '90', 5.99, 'dlc'), ('lego harry potter years 57', '90', 8.99, 'padrao'), ('lego batman', '94', 4.5, 'padrao'), ('batman arkham knight', '90', 8.99, 'padrao'), ('tom clancys rainbow six  siege  standard edition', '60', 23.99, 'padrao'), ('xbox game pass ultimate  1 mes', '0', 44.99, 'padrao'), ('middleearth shadow of war  expansion pass', '94', 3.5, 'dlc'), ('lego batman 2 dc super heroes', '94', 4.5, 'padrao'), ('blasphemous', '0', 59.9, 'padrao'), ('riot points  gift card digital 50 reais', '0', 50.0, 'padrao'), ('doom ii', '60', 3.59, 'padrao'), ('v rising', '20', 30.39, 'padrao'), ('subnautica below zero', '40', 34.79, 'padrao'), ('heroes of might  magic iii hd edition', '75', 11.24, 'padrao'), ('v rising  draculas relics pack', '20', 16.55, 'dlc'), ('mad max', '94', 4.5, 'padrao'), ('lego harry potter years 1 4', '94', 4.5, 'padrao'), ('sid meiers civilization v the complete edition', '0', 99.99, 'padrao'), ('middleearth shadow of mordor  game of the year edition', '94', 4.5, 'padrao'), ('lego the lord of the rings', '94', 4.5, 'padrao'), ('middleearth shadow of war', '95', 11.49, 'padrao'), ('metal gear solid v ground zeroes', '0', 36.99, 'padrao'), ('batman arkham collection', '90', 27.99, 'padrao'), ('lego marvel super heroes', '94', 4.5, 'padrao'), ('lego marvel super heroes 2 deluxe edition', '94', 8.0, 'padrao'), ('silent hill homecoming', '0', 34.99, 'padrao'), ('mortal kombat xl', '90', 12.99, 'pacote'), ('euro truck simulator 2', '0', 39.99, 'padrao'), ('horizon zero dawn complete edition', '70', 59.9, 'padrao'), ('doom', '75', 15.37, 'padrao'), ('lego dc supervillains', '94', 9.0, 'padrao'), ('sid meiers civilization vi  platinum edition', '0', 161.2, 'padrao'), ('tennis manager 2023', '18', 69.99, 'padrao'), ('dmc devil may cry', '75', 14.99, 'padrao'), ('monster hunter world iceborne', '55', 39.99, 'dlc'), ('euro truck simulator 2  italia', '0', 44.99, 'dlc'), ('mortal kombat x  kombat pack 2', '85', 5.23, 'dlc'), ('mortal kombat x  kombat pack', '85', 3.73, 'dlc'), ('resident evil 6', '75', 21.24, 'padrao'), ('batman arkham city  game of the year edition', '85', 13.49, 'padrao'), ('prince of persia the forgotten sands', '80', 5.99, 'padrao'), ('euro truck simulator 2  vive la france', '0', 44.99, 'dlc'), ('euro truck simulator 2  high power cargo pack', '0', 10.49, 'dlc'), ('valhalla hills', '0', 14.99, 'padrao'), ('naruto shippuden ultimate ninja storm legacy', '75', 54.49, 'padrao'), ('wolfenstein the new order', '75', 12.49, 'padrao'), ('prince of persia', '80', 5.99, 'padrao'), ('euro truck simulator 2  going east!', '0', 24.99, 'dlc'), ('the survivalists  deluxe edition', '0', 74.99, 'padrao'), ('mortal kombat 1', '14', 240.69, 'prevenda'), ('the elder scrolls v skyrim special edition', '75', 37.25, 'padrao'), ('scribblenauts unmasked a dc comics adventures', '90', 3.69, 'padrao'), ('riot points  gift card digital 20 reais', '0', 20.0, 'padrao'), ('lego jurassic world', '90', 8.99, 'padrao'), ('resident evil 3', '75', 32.49, 'padrao'), ('crunchyroll fan  1 mes', '0', 14.99, 'padrao'), ('assassins creed valhalla', '75', 49.99, 'padrao'), ('far cry 4', '80', 17.99, 'padrao'), ('xbox  cartao presente digital 50 reais', '0', 50.0, 'padrao'), ('resident evil 0', '75', 9.99, 'padrao'), ('katana zero', '0', 28.99, 'padrao'), ('riot points  gift card digital 100 reais', '0', 100.0, 'padrao'), ('xbox  cartao presente digital 10 reais', '0', 10.0, 'padrao'), ('minecraft java and bedrock edition', '0', 129.0, 'padrao'), ('the lego ninjago movie video game', '94', 4.5, 'padrao'), ('fallout 4', '67', 19.79, 'padrao'), ('ultra street fighter iv', '87', 7.79, 'padrao'), ('xbox  cartao presente digital 40 reais', '0', 40.0, 'padrao'), ('doom (1993)', '60', 3.59, 'padrao'), ('crunchyroll mega fan  1 mes', '0', 19.99, 'padrao'), ('xbox  cartao presente digital 60 reais', '0', 60.0, 'padrao'), ('elden ring', '11', 220.99, 'padrao'), ('naruto shippuden ultimate ninja storm 4  road to boruto', '77', 28.09, 'padrao'), ('titan souls collectors edition', '0', 59.99, 'padrao'), ('171', '0', 59.99, 'padrao'), ('naruto shippuden ultimate ninja storm 4', '80', 19.4, 'padrao'), ('lego city undercover', '90', 8.99, 'padrao'), ('resident evil revelations', '77', 13.79, 'padrao'), ('lego batman 3 beyond gotham season pass', '90', 2.79, 'dlc'), ('euro truck simulator 2  brazilian paint jobs pack', '0', 2.49, 'dlc'), ('the lego movie  videogame', '94', 4.5, 'padrao'), ('monster hunter world', '50', 34.99, 'padrao'), ('naruto shippuden ultimate ninja storm revolution', '85', 8.39, 'padrao'), ('castlevania lords of shadow 2  relic rune pack', '0', 2.19, 'dlc'), ('castlevania lords of shadow 2  dark dracula costume', '0', 2.19, 'dlc'), ('xbox  cartao presente digital 15 reais', '0', 15.0, 'padrao'), ('prince of persia the sands of time', '80', 5.99, 'padrao'), ('uno', '60', 11.99, 'padrao'), ('prince of persia the two thrones', '80', 5.99, 'padrao'), ('back 4 blood ultimate', '85', 68.99, 'padrao'), ('prince of persia warrior within', '80', 5.99, 'padrao'), ('mortal kombat 11 kombat pack 2', '75', 14.99, 'dlc'), ('castlevania lords of shadow 2  armored dracula costume', '0', 2.19, 'dlc'), ('street fighter 6  ultimate edition', '12', 393.35, 'prevenda'), ('bioshock the collection', '80', 23.8, 'padrao'), ('tekken 7', '85', 19.48, 'padrao'), ('monster hunter world iceborne master edition', '53', 59.99, 'padrao'), ('days gone', '0', 199.9, 'padrao'), ('lego marvels avengers season pass', '95', 1.49, 'dlc'), ('tom clancys ghost recon  wildlands', '80', 29.99, 'padrao'), ('dragon ball z kakarot', '75', 39.97, 'padrao'), ('far cry 3', '70', 17.99, 'padrao'), ('mortal kombat 11  aftermath', '80', 25.99, 'dlc'), ('overcooked! 2', '0', 59.9, 'padrao'), ('assassins creed odyssey', '80', 35.99, 'padrao'), ('decay  the mare', '0', 10.49, 'padrao'), ('devil may cry 3  special edition', '75', 9.99, 'padrao'), ('above snakes', '10', 66.59, 'padrao'), ('injustice gods among us ultimate edition', '80', 17.99, 'padrao'), ('the lego movie 2 videogame', '94', 6.5, 'padrao'), ('the evil within', '75', 12.49, 'padrao'), ('xbox  cartao presente digital 100 reais', '0', 100.0, 'padrao'), ('resident evil 2  biohazard re2', '75', 22.49, 'padrao'), ('lego dc supervillains  deluxe edition', '94', 12.75, 'padrao'), ('f.e.a.r. 2 project origin', '94', 3.5, 'padrao'), ('scribblenauts unlimited', '94', 4.5, 'padrao'), ('castlevania lord of shadows  mirror of fate hd', '0', 27.99, 'padrao'), ('resident evil hd remaster', '75', 9.99, 'padrao'), ('metal gear solid v the definitive experience', '0', 98.99, 'padrao'), ('castlevania lords of shadow 2', '0', 72.99, 'padrao'), ('batman arkham origins', '85', 13.49, 'padrao'), ('lego star wars the force awakens  deluxe edition', '94', 6.5, 'pacote'), ('resident evil 4 (2005)', '75', 9.99, 'padrao'), ('lego star wars the force awakens', '94', 4.5, 'padrao'), ('xbox  cartao presente digital 5 reais', '0', 5.0, 'padrao'), ('xbox  cartao presente digital 200 reais', '0', 200.0, 'padrao'), ('lego batman 3 beyond gotham', '94', 4.5, 'padrao'), ('xbox  cartao presente digital 25 reais', '0', 25.0, 'padrao'), ('tom clancys the division 2', '85', 13.49, 'padrao'), ('lego marvel super heroes 2  season pass', '90', 2.99, 'dlc'), ('batman arkham origins blackgate  deluxe edition', '85', 13.49, 'padrao'), ('v rising  sinister evolution', '0', 32.99, 'dlc'), ('valhalla hills fire mountains dlc', '0', 2.29, 'dlc'), ('metal gear rising  revengeance', '0', 49.99, 'padrao'), ('cold fear', '80', 5.99, 'padrao'), ('euro truck simulator 2  road to the black sea', '0', 44.99, 'dlc'), ('assassins creed valhalla  deluxe edition', '75', 68.74, 'padrao'), ('my hero ones justice 2 deluxe edition', '85', 34.48, 'padrao'), ('monster hunter world iceborne master edition deluxe', '50', 74.99, 'padrao'), ('mega man legacy collection', '60', 11.99, 'padrao'), ('assassins creed  freedom cry (standalone)', '75', 11.24, 'padrao'), ('warhammer 40,000 boltgun', '10', 71.9, 'padrao'), ('f1 manager 2022', '0', 99.99, 'padrao'), ('ducktales remastered', '75', 7.49, 'padrao'), ('mafia trilogy', '60', 111.96, 'padrao'), ('system shock', '25', 148.9, 'prevenda'), ('a lenda do heroi  ediçao definitiva', '0', 29.99, 'padrao'), ('scooby doo!  looney tunes cartoon universe adventure', '94', 4.5, 'padrao'), ('squad', '25', 70.49, 'padrao'), ('valhalla hills sand of the damned', '0', 2.29, 'dlc'), ('dragon ball z kakarot  deluxe edition', '75', 62.47, 'padrao'), ('golf with your friends', '0', 37.99, 'padrao'), ('wolfenstein ii the new colossus', '85', 23.25, 'padrao'), ('overcooked', '0', 38.99, 'padrao'), ('lego dc supervillains season pass', '90', 4.99, 'dlc'), ('batman arkham knight season pass', '85', 10.49, 'dlc'), ('south park the fractured but whole  gold edition', '80', 47.99, 'padrao'), ('the last of us  part i', '10', 223.99, 'padrao'), ('dragon ball xenoverse 2', '85', 32.23, 'padrao'), ('assassins creed rogue', '70', 17.99, 'padrao'), ('assassins creed directors cut edition', '70', 17.99, 'padrao'), ('wartales', '0', 129.99, 'padrao'), ('enter the gungeon', '0', 46.99, 'padrao'), ('lego marvel vingadores', '90', 8.99, 'padrao'), ('wolfenstein 3d', '70', 2.69, 'padrao'), ('far cry primal digital apex edition', '75', 26.24, 'padrao'), ('euro truck simulator 2  beyond the baltic sea', '0', 44.99, 'dlc'), ('worms revolution gold edition', '0', 45.99, 'padrao'), ('doom 3', '60', 15.6, 'padrao'), ('gotham knights', '65', 104.99, 'padrao'), ('fallout 4 season pass', '65', 36.74, 'dlc'), ('resident evil village gold edition', '40', 101.94, 'padrao'), ('assassins creed valhalla  complete edition', '70', 149.99, 'padrao'), ('street fighter  30th anniversary', '67', 29.69, 'padrao'), ('marvel vs. capcom infinite deluxe', '80', 25.99, 'padrao'), ('wolfenstein ii the new colossus  digital deluxe edition', '85', 37.35, 'padrao'), ('wolfenstein youngblood', '70', 17.99, 'padrao'), ('super bomberman r', '0', 150.0, 'padrao'), ('rayman legends', '80', 17.99, 'padrao'), ('assassins creed brotherhood', '70', 17.99, 'padrao'), ('rage', '60', 11.99, 'padrao'), ('naruto storm 4 road to boruto expansion', '50', 18.49, 'dlc'), ('enigma do medo  bundle do detetive', '10', 85.0, 'prevenda'), ('doom eternal  deluxe edition  steam', '67', 82.17, 'padrao'), ('far cry new dawn  ultimate bundle', '85', 52.49, 'padrao'), ('american truck simulator enchanted edition', '0', 115.26, 'padrao'), ('ghostwire tokyo', '60', 83.6, 'padrao'), ('monster hunter rise', '55', 62.95, 'padrao'), ('the survivalists', '0', 59.9, 'padrao'), ('gato roboto', '0', 26.49, 'padrao'), ('mega man 11', '67', 23.09, 'padrao'), ('far cry', '70', 8.99, 'padrao'), ('hogwarts legacy', '10', 224.99, 'padrao'), ('doom eternal  steam', '67', 49.17, 'padrao'), ('dead cells', '40', 28.49, 'padrao'), ('prey', '75', 22.49, 'padrao'), ('tekken 7  definitive edition', '85', 79.43, 'padrao'), ('one piece pirate warriors 4  deluxe edition', '85', 59.23, 'padrao'), ('one piece world seeker', '90', 24.99, 'padrao'), ('frostpunk', '0', 88.99, 'padrao'), ('injustice 2  standard edition', '90', 22.99, 'padrao'), ('far cry 5', '80', 35.99, 'padrao'), ('men of war', '0', 16.99, 'padrao'), ('the elder scrolls v skyrim anniversary upgrade', '50', 39.5, 'dlc'), ('gotham knights  deluxe edition', '65', 139.99, 'padrao'), ('injustice 2  legendary edition', '85', 41.99, 'padrao'), ('assassins creed rogue deluxe edition', '70', 26.99, 'padrao'), ('naruto shippuden ultimate ninja storm 3 full burst', '75', 19.97, 'padrao'), ('crypt of the necrodancer', '0', 27.99, 'padrao'), ('my hero ones justice 2', '85', 23.98, 'padrao'), ('euro truck simulator 2  heavy cargo pack', '0', 12.49, 'dlc'), ('euro truck simulator 2  scandinavia', '0', 44.99, 'dlc'), ('dishonored definitive edition', '75', 14.99, 'padrao'), ('enigma do medo', '9', 49.99, 'prevenda'), ('euro truck simulator 2  special transport', '0', 12.19, 'dlc'), ('lego marvel super heroes 2', '90', 8.99, 'padrao'), ('south park the fractured but whole', '80', 29.99, 'padrao'), ('hotline miami 2 wrong number', '0', 46.99, 'padrao'), ('resident evil village', '50', 69.95, 'padrao'), ('monopoly plus', '60', 17.99, 'padrao'), ('the escapists 2', '0', 59.99, 'padrao'), ('dishonored', '75', 7.49, 'padrao'), ('enigma do medo  bundle do medo', '12', 105.0, 'prevenda'), ('tom clancys ghost recon breakpoint', '80', 35.8, 'padrao'), ('dragon ball fighterz', '85', 22.48, 'padrao'), ('lego star wars the force awakens  season pass', '94', 2.0, 'dlc'), ('batman arkham asylum goty', '85', 13.49, 'padrao'), ('ultimate marvel vs. capcom 3', '70', 16.49, 'padrao'), ('dishonored 2', '80', 17.99, 'padrao'), ('assassins creed syndicate', '75', 22.49, 'padrao'), ('south park the stick of truth', '75', 22.49, 'padrao'), ('euro truck simulator 2  cabin accessories', '0', 11.49, 'dlc'), ('dragon ball fighterz  fighterz edition', '85', 35.98, 'padrao'), ('accel world vs. sword art online deluxe edition', '80', 18.19, 'padrao'), ('one piece pirate warriors 3  gold edition', '85', 15.59, 'padrao'), ('middleearth shadow of mordor  goty edition upgrade', '75', 4.99, 'dlc'), ('the elder scrolls v skyrim anniversary edition', '60', 71.6, 'padrao'), ('watch_dogs 2 deluxe edition', '85', 26.99, 'padrao'), ('resident evil revelations 2 deluxe edition', '60', 29.99, 'padrao'), ('one piece world seeker  deluxe edition', '90', 34.99, 'padrao'), ('assassins creed origins', '85', 26.99, 'padrao'), ('assassins creed odyssey  ultimate edition', '80', 65.99, 'padrao'), ('mega man x legacy collection 2', '60', 15.99, 'padrao'), ('witch it', '0', 59.99, 'padrao'), ('hatred', '0', 17.99, 'padrao'), ('metal gear survive', '0', 79.99, 'padrao'), ('silence', '0', 37.99, 'padrao'), ('euro truck simulator 2  wheel tuning pack', '0', 6.49, 'dlc'), ('the evil within season pass', '60', 11.99, 'dlc'), ('xbox game pass ultimate  3 meses', '0', 134.99, 'padrao'), ('rage the scorchers', '60', 3.59, 'dlc'), ('hogwarts legacy  deluxe edition', '10', 269.98, 'padrao'), ('watch dogs legion  ultimate edition', '80', 79.99, 'padrao'), ('watch dogs legion  deluxe edition', '85', 41.24, 'padrao'), ('planet zoo  deluxe edition', '0', 108.99, 'padrao'), ('assassins creed revelations gold edition', '67', 29.69, 'padrao'), ('aspire inas tale', '80', 5.79, 'padrao'), ('townscaper', '30', 8.67, 'padrao'), ('the suicide of rachel foster', '0', 49.99, 'padrao'), ('digimon story cyber sleuth complete edition', '75', 32.49, 'padrao'), ('post scriptum', '75', 14.72, 'padrao'), ('marvel vs. capcom infinite', '80', 17.99, 'padrao'), ('the escapists + the escapists the walking dead deluxe bundle', '0', 45.99, 'padrao'), ('fallout a post nuclear role playing game', '75', 4.99, 'padrao'), ('fallout tactics brotherhood of steel', '75', 4.99, 'padrao'), ('quake iii arena + team arena', '60', 13.19, 'padrao'), ('pacote black legends', '85', 71.99, 'pacote'), ('alien breed trilogy', '0', 39.99, 'pacote'), ('destiny 2 lightfall + annual pass', '33', 200.99, 'dlc'), ('destiny 2 bungie 30th anniversary pack', '50', 37.49, 'dlc'), ('one punch man a hero nobody knows  deluxe edition', '90', 22.99, 'padrao'), ('contra anniversary collection', '0', 79.0, 'padrao'), ('assassins creed origins  gold edition', '80', 59.99, 'padrao'), ('one piece burning blood  gold edition', '85', 32.98, 'padrao'), ('tom clancys splinter cell conviction deluxe edition', '75', 14.99, 'padrao'), ('miasma chronicles', '13', 129.99, 'padrao'), ('riders republic', '75', 62.47, 'padrao'), ('golf club wasteland', '80', 4.13, 'padrao'), ('dont starve together', '0', 27.99, 'padrao'), ('horizon chase turbo', '0', 49.99, 'padrao'), ('super dragon ball heroes world mission', '90', 19.99, 'padrao'), ('metal gear solid v the phantom pain', '0', 129.99, 'padrao'), ('necrovision', '0', 16.99, 'padrao'), ('dead rising 2', '70', 10.49, 'padrao'), ('assassins creed valhalla  season pass', '60', 63.99, 'dlc'), ('euro truck simulator 2  mighty griffin tuning pack', '0', 9.99, 'dlc'), ('euro truck simulator 2  schwarzmüller trailer pack', '0', 6.29, 'dlc'), ('euro truck simulator 2  prehistoric paint jobs pack', '0', 4.49, 'dlc'), ('immortals fenyx rising   gold edition', '80', 69.99, 'padrao'), ('far cry 5 – gold edition', '80', 51.99, 'padrao'), ('kingdom two crowns norse lands edition', '60', 18.89, 'padrao'), ('worms rumble  deluxe edition', '0', 54.49, 'padrao'), ('castlevania anniversary collection', '0', 119.0, 'padrao'), ('sword art online hollow realization deluxe edition', '80', 18.19, 'padrao'), ('mortal kombat x  premium edition', '85', 25.34, 'padrao'), ('worms ultimate mayhem deluxe edition', '0', 31.99, 'padrao'), ('police stories', '70', 17.99, 'padrao'), ('stranded alien dawn', '15', 86.49, 'padrao'), ('far cry 6', '75', 62.49, 'padrao'), ('outer wilds', '40', 35.99, 'padrao'), ('scott pilgrim vs. the world the game  complete edition', '67', 19.79, 'padrao'), ('tokyo ghoulre [call to exist]', '90', 15.99, 'padrao'), ('far cry primal', '75', 22.49, 'padrao'), ('watch dogs', '75', 22.49, 'padrao'), ('tom clancys rainbow six vegas', '75', 7.49, 'padrao'), ('tom clancys splinter cell blacklist', '75', 22.49, 'padrao'), ('tom clancys rainbow six vegas 2', '75', 7.49, 'padrao'), ('monster hunter rise sunbreak', '32', 114.68, 'dlc'), ('euro truck simulator 2  viking legends', '0', 4.49, 'dlc'), ('ea  gift card digital r$125', '0', 125.0, 'padrao'), ('crunchyroll mega fan  12 meses', '0', 199.99, 'padrao'), ('devil may cry 5 deluxe + vergil', '50', 59.99, 'padrao'), ('tom clancys ghost recon breakpoint  deluxe edition', '80', 41.99, 'padrao'), ('tom clancys ghost recon breakpoint  ultimate edition', '80', 71.99, 'padrao'), ('far cry new dawn  deluxe edition', '80', 29.99, 'padrao'), ('naruto to boruto  shinobi striker deluxe edition', '90', 23.99, 'padrao'), ('f.e.a.r.  ultimate shooter edition', '0', 16.99, 'padrao'), ('wolcen lords of mayhem', '0', 75.49, 'padrao'), ('shift happens', '0', 46.99, 'padrao'), ('conan exiles', '50', 49.74, 'padrao'), ('candle', '0', 18.99, 'padrao'), ('mother russia bleeds', '0', 46.99, 'padrao'), ('watch_dogs 2', '85', 22.49, 'padrao'), ('fallout 2 a post nuclear role playing game', '75', 4.99, 'padrao'), ('dragon ball xenoverse', '85', 11.99, 'padrao'), ('worms revolution', '0', 27.99, 'padrao'), ('resident evil village  winters expansion', '25', 50.17, 'dlc'), ('american truck simulator  special transport', '0', 12.19, 'dlc'), ('far cry 6  gold edition', '75', 87.49, 'padrao'), ('destiny 2 legacy collection', '50', 74.99, 'padrao'), ('pilgrims', '0', 13.99, 'padrao'), ('sword art online re hollow fragment', '75', 9.49, 'padrao'), ('for honor starter edition', '60', 17.99, 'padrao'), ('the crew 2', '80', 29.99, 'padrao'), ('remember me', '80', 9.99, 'padrao'), ('destiny 2 lightfall', '40', 89.99, 'dlc'), ('euro truck simulator 2  pirate paint jobs pack', '0', 4.29, 'dlc'), ('tom clancys ghost recon wildlands ultimate edition', '80', 65.99, 'padrao'), ('watch_dogs 2 gold edition', '85', 38.99, 'padrao'), ('lego star wars™ the skywalker saga', '60', 79.99, 'padrao'), ('watch dogs legion', '85', 37.49, 'padrao'), ('greak memories of azur', '0', 59.99, 'padrao'), ('naruto to boruto shinobi striker', '90', 13.99, 'padrao'), ('tom clancys the division 1  ediçao standard', '85', 17.99, 'padrao'), ('scania truck driving simulator', '0', 19.99, 'padrao'), ('rocket knight', '0', 16.99, 'padrao'), ('max payne 2 the fall of max payne', '0', 14.99, 'padrao'), ('naruto shippuden ultimate ninja storm trilogy', '75', 40.14, 'pacote'), ('injustice 2  ultimate pack', '90', 19.99, 'dlc'), ('ea  gift card digital r$299', '0', 299.0, 'padrao'), ('worms reloaded  game of the year edition', '0', 45.99, 'padrao'), ('gauntlet slayer edition', '80', 17.99, 'padrao'), ('batman  the telltale series', '50', 14.49, 'padrao'), ('florence', '66', 5.94, 'padrao'), ('world war z aftermath', '0', 75.49, 'padrao'), ('contra rogue corps', '0', 159.9, 'padrao'), ('devolver bootleg', '0', 10.89, 'padrao'), ('io', '90', 1.59, 'padrao'), ('steep', '85', 13.49, 'padrao'), ('worms w.m.d', '0', 79.9, 'padrao'), ('star wars knights of the old republic ii  the sith lords', '0', 19.99, 'padrao'), ('skyhill', '0', 26.69, 'padrao'), ('star wars knights of the old republic', '0', 20.69, 'padrao'), ('quake iv', '67', 10.88, 'padrao'), ('watch dogs  complete edition', '75', 37.49, 'pacote'), ('horizon chase turbo  summer vibes', '0', 5.49, 'dlc'), ('conan exiles isle of siptah', '20', 39.99, 'dlc'), ('assassins creed origins  season pass', '70', 35.99, 'dlc'), ('american truck simulator  wheel tuning pack', '0', 6.49, 'dlc'), ('euro truck simulator 2  force of nature paint jobs pack', '0', 4.49, 'dlc'), ('okami hd', '50', 19.99, 'padrao'), ('planet alpha', '0', 37.99, 'padrao'), ('holy potatoes! what the hell?!', '0', 10.99, 'padrao'), ('hard west', '90', 3.69, 'padrao'), ('dead rising 3  apocalypse edition', '70', 25.49, 'padrao'), ('i am alive', '75', 11.24, 'padrao'), ('assassins creed revelations', '70', 17.99, 'padrao'), ('dragon ball xenoverse  bundle', '85', 18.89, 'pacote'), ('blackguards franchise bundle', '0', 28.99, 'pacote'), ('dragon ball fighterz  fighterz pass 3', '50', 39.95, 'dlc'), ('doom eternal year one pass', '60', 47.6, 'dlc'), ('destiny 2 pacote de renegados', '60', 15.19, 'dlc'), ('assassins creed odyssey  season pass', '60', 39.99, 'dlc'), ('american truck simulator  new mexico', '0', 31.99, 'dlc'), ('american truck simulator  heavy cargo pack', '0', 12.19, 'dlc'), ('cities skylines  snowfall', '75', 10.49, 'dlc'), ('cities skylines  after dark', '75', 11.74, 'dlc'), ('euro truck simulator 2  flip paint designs', '0', 4.49, 'dlc'), ('euro truck simulator 2 halloween paint jobs pack', '0', 4.49, 'dlc'), ('the last of us  part i  digital deluxe edition', '10', 268.9, 'padrao'), ('destiny 2 the witch queen', '50', 44.99, 'dlc'), ('elypse', '0', 46.99, 'padrao'), ('ea  gift card digital r$55', '0', 55.0, 'padrao'), ('riders republic  deluxe edition', '75', 79.99, 'padrao'), ('riders republic  ultimate edition', '75', 99.99, 'padrao'), ('lego star wars™ the skywalker saga deluxe edition', '60', 99.99, 'padrao'), ('castlevania advance collection', '0', 99.0, 'padrao'), ('jurassic world evolution 2  deluxe edition', '0', 127.99, 'padrao'), ('world war z aftermath  deluxe edition', '0', 94.49, 'padrao'), ('sid meiers civilization vi anthology', '0', 230.99, 'padrao'), ('holy potatoes! a weapon shop?!  dlc bundle', '0', 23.99, 'padrao'), ('assassins creed syndicate  gold edition', '75', 44.99, 'padrao'), ('far cry 4  gold edition', '75', 44.99, 'padrao'), ('transport fever 2', '50', 53.99, 'padrao'), ('returnal', '14', 214.91, 'padrao'), ('broken sword 2  the smoking mirror remastered', '80', 1.99, 'padrao'), ('broken sword 3  the sleeping dragon', '80', 1.99, 'padrao'), ('quake', '60', 11.99, 'padrao'), ('children of morta', '0', 47.49, 'padrao'), ('phoenix wright ace attorney trilogy', '55', 31.49, 'padrao'), ('ea  gift card digital r$79', '0', 79.0, 'padrao'), ('far cry 6  game of the year edition', '70', 119.99, 'padrao'), ('ghostwire tokyo deluxe edition', '60', 111.6, 'padrao'), ('monster hunter rise  deluxe edition', '50', 84.12, 'padrao'), ('the crew 2  special edition', '80', 35.99, 'padrao'), ('back 4 blood deluxe', '85', 62.99, 'padrao'), ('going under  deluxe edition', '0', 71.98, 'padrao'), ('serious sam 4 deluxe edition', '0', 93.99, 'padrao'), ('assassins creed odyssey  gold edition', '80', 59.99, 'padrao'), ('broken sword directors cut', '80', 1.69, 'padrao'), ('journey', '50', 19.99, 'padrao'), ('one punch man a hero nobody knows', '90', 15.99, 'padrao'), ('yookalaylee and the impossible lair', '0', 57.99, 'padrao'), ('holy potatoes! a spy story?!', '0', 18.99, 'padrao'), ('dungeon rushers', '90', 2.79, 'padrao'), ('street fighter v', '0', 39.99, 'padrao'), ('one piece pirate warriors 3', '85', 11.99, 'padrao'), ('zombi', '75', 14.99, 'padrao'), ('valiant hearts the great war', '75', 11.24, 'padrao'), ('munin', '0', 10.49, 'padrao'), ('the wild eight', '85', 11.99, 'padrao'), ('age of wonders 4', '0', 165.99, 'padrao'), ('batman  the enemy within  the telltale series', '50', 14.49, 'padrao'), ('immortals fenyx rising', '80', 49.98, 'padrao'), ('broken sword 4  the angel of death', '80', 3.99, 'padrao'), ('one step from eden', '0', 37.99, 'padrao'), ('golf gang', '0', 29.99, 'padrao'), ('what remains of edith finch', '70', 14.99, 'padrao'), ('samorost 2', '0', 10.99, 'padrao'), ('mechwarrior 5 mercenaries', '50', 28.99, 'padrao'), ('narita boy', '0', 74.99, 'padrao'), ('going under', '0', 59.99, 'padrao'), ('rogue heroes ruins of tasos', '0', 59.99, 'padrao'), ('creaks', '0', 44.99, 'padrao'), ('skelattack', '0', 89.9, 'padrao'), ('neon abyss', '0', 59.99, 'padrao'), ('monster train', '75', 11.87, 'padrao'), ('no mans sky', '0', 162.0, 'padrao'), ('black future 88', '80', 7.59, 'padrao'), ('barotrauma', '0', 99.99, 'padrao'), ('cities skylines  deluxe edition', '70', 32.39, 'padrao'), ('the escapists', '0', 47.49, 'padrao'), ('quake ii', '60', 7.19, 'padrao'), ('lost planet 3', '80', 9.19, 'padrao'), ('tom clancys ghost recon breakpoint  year 1 pass', '65', 41.99, 'dlc'), ('children of morta paws and claws', '0', 4.49, 'dlc'), ('golf with your friends  caddy pack', '0', 4.49, 'dlc'), ('planet coaster  magnificent rides collection', '0', 21.99, 'dlc'), ('dead cells the bad seed', '40', 6.53, 'dlc'), ('american truck simulator  washington', '0', 31.99, 'dlc'), ('south park the fractured but whole  season pass', '80', 17.99, 'dlc'), ('for honor year 1 heroes bundle', '70', 26.99, 'dlc'), ('naruto shippuden ultimate ninja storm 4  season pass', '50', 24.95, 'dlc'), ('euro truck simulator 2  christmas paint jobs pack', '0', 4.49, 'dlc'), ('bioshock infinite season pass', '75', 7.49, 'dlc'), ('bioshock infinite columbias finest', '75', 1.99, 'dlc'), ('hifi rush deluxe edition', '15', 122.4, 'padrao'), ('elden ring deluxe edition', '10', 293.69, 'padrao'), ('assassins creed origins  deluxe edition', '80', 41.99, 'padrao'), ('euro truck simulator 2 gold edition', '0', 64.99, 'padrao'), ('pokemon sword expansion pass', '0', 149.0, 'dlc'), ('monster hunter world iceborne  deluxe edition', '50', 54.99, 'dlc'), ('cities skylines  parklife', '75', 11.74, 'dlc'), ('american truck simulator  oregon', '0', 31.99, 'dlc'), ('dragon ball xenoverse 2  super pass', '50', 63.72, 'dlc'), ('fallout 4  contraptions workshop', '60', 5.99, 'dlc'), ('fallout 4  wasteland workshop', '60', 6.32, 'dlc'), ('euro truck simulator 2 ice cold paint jobs pack', '0', 4.49, 'dlc'), ('assassins creed valhalla  ragnarök edition', '70', 110.99, 'padrao'), ('far cry 6  deluxe edition', '75', 78.74, 'padrao'), ('riders republic  gold edition', '75', 87.49, 'padrao'), ('marvels midnight suns  legendary edition  steam', '50', 249.75, 'padrao'), ('watch dogs legion  gold edition', '80', 69.99, 'padrao'), ('the crew 2  new gold edition', '80', 51.99, 'padrao'), ('overcooked! all you can eat', '0', 120.0, 'padrao'), ('ragnarök  pacote de 4.000 rops', '0', 7.9, 'padrao'), ('rollercoaster tycoon 3 complete edition', '0', 37.99, 'padrao'), ('dead island definitive edition', '0', 34.99, 'padrao'), ('armored core vi fires of rubicon', '10', 229.99, 'prevenda'), ('seraphs last stand', '0', 2.07, 'padrao'), ('ark survival evolved', '0', 37.99, 'padrao'), ('dome keeper', '25', 29.99, 'padrao'), ('911 operator', '80', 5.59, 'padrao'), ('potion permit', '0', 49.99, 'padrao'), ('marvels spiderman miles morales', '0', 199.9, 'padrao'), ('dayz', '0', 119.99, 'padrao'), ('donut county', '70', 10.49, 'padrao'), ('warhammer 40,000 chaos gate  daemonhunters', '0', 84.99, 'padrao'), ('beyond the wire', '75', 16.49, 'padrao'), ('atomicrops', '60', 18.79, 'padrao'), ('heave ho', '0', 32.99, 'padrao'), ('kao the kangaroo round 2', '0', 4.49, 'padrao'), ('pax nova', '0', 73.99, 'padrao'), ('bionic commando rearmed', '80', 3.39, 'padrao'), ('planet coaster', '0', 81.99, 'padrao'), ('naruto ultimate ninja storm', '75', 19.97, 'padrao'), ('fallout 4 vr', '75', 49.99, 'padrao'), ('holy potatoes! a weapon shop?!', '0', 18.99, 'padrao'), ('for honor', '75', 22.49, 'padrao'), ('umbrella corps deluxe edition', '75', 13.74, 'padrao'), ('far cry new dawn', '80', 25.99, 'padrao'), ('deadrising 4', '75', 17.49, 'padrao'), ('zone of the enders 2nd runner mars', '0', 149.9, 'padrao'), ('warhammer 40,000 mechanicus  omnissiah edition', '75', 17.25, 'padrao'), ('absolver', '0', 88.99, 'padrao'), ('dishonored death of the outsider', '80', 17.99, 'padrao'), ('batman arkham vr', '85', 13.49, 'padrao'), ('resident evil 7 biohazard', '60', 27.99, 'padrao'), ('umbrella corps', '75', 9.99, 'padrao'), ('worms world party remastered', '0', 27.99, 'padrao'), ('fire!', '0', 19.99, 'padrao'), ('1954 alcatraz', '0', 19.99, 'padrao'), ('child of light', '70', 13.49, 'padrao'), ('rayman origins', '70', 17.99, 'padrao'), ('tom clancys splinter cell', '75', 7.49, 'padrao'), ('grand theft auto v premium online edition', '0', 82.42, 'pacote'), ('dragon ball fighterz  fighterz pass 2', '50', 49.95, 'dlc'), ('dead cells  the queen and the sea', '20', 8.71, 'dlc'), ('dead cells fatal falls', '30', 7.62, 'dlc'), ('conan exiles  debaucheries of derketo pack', '25', 18.74, 'dlc'), ('planet coaster  classic rides collection', '0', 21.99, 'dlc'), ('planet coaster  vintage pack', '0', 21.99, 'dlc'), ('warhammer 40,000 mechanicus  heretek', '50', 9.5, 'dlc'), ('frostpunk  season pass', '0', 78.02, 'dlc'), ('overcooked! 2  season pass', '0', 37.99, 'dlc'), ('overcooked! 2  surf n turf', '0', 12.39, 'dlc'), ('watch_dogs® 2  season pass', '85', 17.99, 'dlc'), ('injustice 2  fighter pack 2', '85', 7.49, 'dlc'), ('the escapists 2  season pass', '0', 19.99, 'dlc'), ('fallout 4  vaulttec workshop', '60', 5.99, 'dlc'), ('the escapists  alcatraz', '0', 4.29, 'dlc'), ('assassins creed syndicate  season pass', '75', 22.49, 'dlc'), ('worms revolution funfair', '0', 10.49, 'dlc'), ('worms revolution mars pack', '0', 10.49, 'dlc'), ('worms revolution medieval tales', '0', 10.49, 'dlc'), ('the evil within  the consequence', '0', 17.99, 'dlc'), ('far cry 4  season pass', '70', 26.99, 'dlc'), ('watch dogs season pass', '75', 14.99, 'dlc'), ('f.e.a.r. 2 reborn', '0', 16.99, 'dlc'), ('armored core vi fires of rubicon  deluxe edition', '10', 269.49, 'prevenda'), ('assassins creed chronicles russia', '70', 8.99, 'padrao'), ('annas quest', '0', 36.99, 'padrao'), ('a new beginning', '0', 16.99, 'padrao'), ('rogue warrior', '60', 7.19, 'padrao'), ('blackguards  deluxe edition', '0', 23.99, 'padrao'), ('cities skylines', '70', 26.69, 'padrao'), ('luftrausers', '0', 16.99, 'padrao'), ('assassins creed chronicles china', '70', 8.99, 'padrao'), ('blackguards 2', '0', 18.99, 'padrao'), ('strider', '70', 7.49, 'padrao'), ('necrovision lost company', '0', 23.5, 'padrao'), ('brothers in arms hells highway', '60', 11.99, 'padrao'), ('tom clancys splinter cell double agent', '75', 7.49, 'padrao'), ('rain world downpour', '0', 46.99, 'dlc'), ('lego star wars™ the skywalker saga character collection', '60', 19.99, 'dlc'), ('children of morta ancient spirits', '0', 10.89, 'dlc'), ('conan exiles  architects of argos pack', '25', 18.74, 'dlc'), ('destiny 2 alem da luz', '60', 35.99, 'dlc'), ('crypt of the necrodancer amplified', '0', 13.99, 'dlc'), ('uno  flip theme', '40', 8.99, 'dlc')]\n"
          ]
        }
      ],
      "source": [
        "DBNuuvem = db.Table('jogos_nuuvem', metadata, autoload=True, autoload_with=engine)\n",
        "query = db.select([DBNuuvem])\n",
        "result = conn.execute(query)\n",
        "print(result.fetchall())"
      ]
    }
  ],
  "metadata": {
    "colab": {
      "provenance": []
    },
    "kernelspec": {
      "display_name": "Python 3.9.0 64-bit",
      "language": "python",
      "name": "python3"
    },
    "language_info": {
      "codemirror_mode": {
        "name": "ipython",
        "version": 3
      },
      "file_extension": ".py",
      "mimetype": "text/x-python",
      "name": "python",
      "nbconvert_exporter": "python",
      "pygments_lexer": "ipython3",
      "version": "3.11.3"
    },
    "orig_nbformat": 4,
    "vscode": {
      "interpreter": {
        "hash": "9b16fe64e235b62e0f32637134c1c3ea29b3eadaef70f7339a05a72ed13b4b69"
      }
    }
  },
  "nbformat": 4,
  "nbformat_minor": 0
}
